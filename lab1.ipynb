{
 "cells": [
  {
   "cell_type": "code",
   "execution_count": 1,
   "metadata": {},
   "outputs": [],
   "source": [
    "import numpy as np\n",
    "import matplotlib.pyplot as plt\n",
    "from scipy.stats import norm\n",
    "from scipy.stats import t as stud\n",
    "from scipy.stats import chi2\n",
    "from math import sqrt\n",
    "from math import log\n",
    "import scipy.integrate as integrate\n",
    "%matplotlib inline"
   ]
  },
  {
   "cell_type": "markdown",
   "metadata": {},
   "source": [
    "# Довірчі інтервали"
   ]
  },
  {
   "cell_type": "markdown",
   "metadata": {},
   "source": [
    "1) Довірчі інтервали для нормального розподілу"
   ]
  },
  {
   "cell_type": "code",
   "execution_count": 2,
   "metadata": {},
   "outputs": [],
   "source": [
    "gamma = 0.05"
   ]
  },
  {
   "cell_type": "markdown",
   "metadata": {},
   "source": [
    "1.1) Для мат. сподівання $M \\xi =a$ в припущенні, що відомо $D \\xi=1$."
   ]
  },
  {
   "cell_type": "code",
   "execution_count": 3,
   "metadata": {},
   "outputs": [],
   "source": [
    "def conf_int_for_a(n, sigma):\n",
    "    z_gamma = norm.ppf(1-0.5*gamma, loc = 0, scale=1)\n",
    "    sel = np.random.normal(size = n, loc = 0, scale = sigma)\n",
    "    a_est = np.mean(sel)\n",
    "    a = a_est - z_gamma*sigma/sqrt(n)\n",
    "    b = a_est + z_gamma*sigma/sqrt(n)\n",
    "    print('Довірчий інтервал: [{0}, {1}]'.format(a, b))\n",
    "    print('Довжина інтервалу: {0}'.format(abs(b-a)))\n",
    "    return abs(b-a)"
   ]
  },
  {
   "cell_type": "markdown",
   "metadata": {},
   "source": [
    "a) $n = 100$"
   ]
  },
  {
   "cell_type": "code",
   "execution_count": 4,
   "metadata": {},
   "outputs": [
    {
     "name": "stdout",
     "output_type": "stream",
     "text": [
      "Довірчий інтервал: [-0.1343361990186106, 0.2576565978894002]\n",
      "Довжина інтервалу: 0.3919927969080108\n"
     ]
    }
   ],
   "source": [
    "length_1 = conf_int_for_a(100, 1)"
   ]
  },
  {
   "cell_type": "markdown",
   "metadata": {},
   "source": [
    "b) $n=1000$"
   ]
  },
  {
   "cell_type": "code",
   "execution_count": 5,
   "metadata": {},
   "outputs": [
    {
     "name": "stdout",
     "output_type": "stream",
     "text": [
      "Довірчий інтервал: [-0.05384990977644165, 0.07010909668447067]\n",
      "Довжина інтервалу: 0.12395900646091232\n"
     ]
    }
   ],
   "source": [
    "length_2 = conf_int_for_a(1000, 1)"
   ]
  },
  {
   "cell_type": "markdown",
   "metadata": {},
   "source": [
    "c) $n=10000$"
   ]
  },
  {
   "cell_type": "code",
   "execution_count": 6,
   "metadata": {},
   "outputs": [
    {
     "name": "stdout",
     "output_type": "stream",
     "text": [
      "Довірчий інтервал: [-0.04411599408862493, -0.004916714397823856]\n",
      "Довжина інтервалу: 0.03919927969080107\n"
     ]
    }
   ],
   "source": [
    "length_3 = conf_int_for_a(10000, 1)"
   ]
  },
  {
   "cell_type": "markdown",
   "metadata": {},
   "source": [
    "d) $n=100000$"
   ]
  },
  {
   "cell_type": "code",
   "execution_count": 7,
   "metadata": {},
   "outputs": [
    {
     "name": "stdout",
     "output_type": "stream",
     "text": [
      "Довірчий інтервал: [-0.0023934478387357245, 0.010002452807355506]\n",
      "Довжина інтервалу: 0.01239590064609123\n"
     ]
    }
   ],
   "source": [
    "length_4 = conf_int_for_a(100000, 1)"
   ]
  },
  {
   "cell_type": "markdown",
   "metadata": {},
   "source": [
    "Обчислимо швидкість збіжності нашого довірчого інтервалу. При кожному обчисленні збільшували розмір вибірки в 10 разів, а тому очікуємо побачити швидкість збіжності $\\frac{1}{\\sqrt{n}}=\\frac{1}{\\sqrt{10}}$."
   ]
  },
  {
   "cell_type": "code",
   "execution_count": 8,
   "metadata": {},
   "outputs": [
    {
     "name": "stdout",
     "output_type": "stream",
     "text": [
      "Практична швидкість збіжності: 0.31622776601683794\n",
      "Теоретична швидкість збіжності: 0.31622776601683794\n"
     ]
    }
   ],
   "source": [
    "len_change = np.mean(np.array([length_2/length_1,length_3/length_2,length_4/length_3])) \n",
    "print(\"Практична швидкість збіжності: {0}\".format(len_change))\n",
    "print(\"Теоретична швидкість збіжності: {0}\".format(1/sqrt(10)))"
   ]
  },
  {
   "cell_type": "markdown",
   "metadata": {},
   "source": [
    "1.2) Для мат. сподівання $M \\xi =a$ в припущенні, що не відомо $D \\xi$."
   ]
  },
  {
   "cell_type": "code",
   "execution_count": 9,
   "metadata": {},
   "outputs": [],
   "source": [
    "def conf_int_for_a_no_sigma(n):\n",
    "    sel = np.random.normal(size = n, loc = 0, scale = 1)\n",
    "    a_est = np.mean(sel)\n",
    "    sigma_est = np.mean(np.square((np.subtract(sel,a_est))))\n",
    "    z_gamma = stud.ppf(1 - 0.5*gamma, df = n)\n",
    "    a = a_est - z_gamma*sigma_est/sqrt(n-1)\n",
    "    b = a_est + z_gamma*sigma_est/sqrt(n-1)\n",
    "    print('Довірчий інтервал: [{0}, {1}]'.format(a, b))\n",
    "    return abs(a-b)"
   ]
  },
  {
   "cell_type": "markdown",
   "metadata": {},
   "source": [
    "a) $n = 100$"
   ]
  },
  {
   "cell_type": "code",
   "execution_count": 10,
   "metadata": {},
   "outputs": [
    {
     "name": "stdout",
     "output_type": "stream",
     "text": [
      "Довірчий інтервал: [-0.266269441717829, 0.20985183790470968]\n"
     ]
    }
   ],
   "source": [
    "len_1 = conf_int_for_a_no_sigma(100)"
   ]
  },
  {
   "cell_type": "markdown",
   "metadata": {},
   "source": [
    "b) $n = 1000$"
   ]
  },
  {
   "cell_type": "code",
   "execution_count": 11,
   "metadata": {},
   "outputs": [
    {
     "name": "stdout",
     "output_type": "stream",
     "text": [
      "Довірчий інтервал: [-0.04494461924668722, 0.08046600712422133]\n"
     ]
    }
   ],
   "source": [
    "len_2 = conf_int_for_a_no_sigma(1000)"
   ]
  },
  {
   "cell_type": "markdown",
   "metadata": {},
   "source": [
    "c) $n = 10000$"
   ]
  },
  {
   "cell_type": "code",
   "execution_count": 12,
   "metadata": {},
   "outputs": [
    {
     "name": "stdout",
     "output_type": "stream",
     "text": [
      "Довірчий інтервал: [-0.031401816736177424, 0.007254320471596638]\n"
     ]
    }
   ],
   "source": [
    "len_3 = conf_int_for_a_no_sigma(10000)"
   ]
  },
  {
   "cell_type": "markdown",
   "metadata": {},
   "source": [
    "d) $n = 100000$"
   ]
  },
  {
   "cell_type": "code",
   "execution_count": 13,
   "metadata": {},
   "outputs": [
    {
     "name": "stdout",
     "output_type": "stream",
     "text": [
      "Довірчий інтервал: [-0.0017690032161945856, 0.010735942723016558]\n"
     ]
    }
   ],
   "source": [
    "len_4 = conf_int_for_a_no_sigma(100000)"
   ]
  },
  {
   "cell_type": "code",
   "execution_count": 14,
   "metadata": {},
   "outputs": [
    {
     "name": "stdout",
     "output_type": "stream",
     "text": [
      "Практична швидкість збіжності: 0.29837633121099644\n",
      "Теоретична швидкість збіжності: 0.31622776601683794\n"
     ]
    }
   ],
   "source": [
    "len_change = np.mean(np.array([len_2/len_1,len_3/len_2,len_4/len_3])) \n",
    "print(\"Практична швидкість збіжності: {0}\".format(len_change))\n",
    "print(\"Теоретична швидкість збіжності: {0}\".format(1/sqrt(10)))"
   ]
  },
  {
   "cell_type": "markdown",
   "metadata": {},
   "source": [
    "1.3) Для мат. сподівання у припущенні, що не відомо, що розподіл нормальний."
   ]
  },
  {
   "cell_type": "code",
   "execution_count": 15,
   "metadata": {},
   "outputs": [],
   "source": [
    "def conf_int_for_a_no_dist(n):\n",
    "    sel = np.random.normal(size = n, loc = 0, scale = 1)\n",
    "    a_est = np.mean(sel)\n",
    "    sigma_est = 1/(n-1)*(np.sum(np.square(sel)) - (1/n)*a_est**2)\n",
    "    z_gamma = norm.ppf(1-0.5*gamma, loc = 0, scale=1)\n",
    "    a = a_est - z_gamma*sigma_est/sqrt(n)\n",
    "    b = a_est + z_gamma*sigma_est/sqrt(n)\n",
    "    print('Довірчий інтервал: [{0}, {1}]'.format(a, b))\n",
    "    return abs(a-b)"
   ]
  },
  {
   "cell_type": "markdown",
   "metadata": {},
   "source": [
    "a) $n = 100$"
   ]
  },
  {
   "cell_type": "code",
   "execution_count": 16,
   "metadata": {},
   "outputs": [
    {
     "name": "stdout",
     "output_type": "stream",
     "text": [
      "Довірчий інтервал: [-0.3167790162070783, 0.09290237563604416]\n"
     ]
    }
   ],
   "source": [
    "len_1 = conf_int_for_a_no_dist(100)"
   ]
  },
  {
   "cell_type": "markdown",
   "metadata": {},
   "source": [
    "b) $n = 1000$"
   ]
  },
  {
   "cell_type": "code",
   "execution_count": 17,
   "metadata": {},
   "outputs": [
    {
     "name": "stdout",
     "output_type": "stream",
     "text": [
      "Довірчий інтервал: [-0.07738945323205577, 0.043838624945214]\n"
     ]
    }
   ],
   "source": [
    "len_2 = conf_int_for_a_no_dist(1000)"
   ]
  },
  {
   "cell_type": "markdown",
   "metadata": {},
   "source": [
    "c) $n=10000$"
   ]
  },
  {
   "cell_type": "code",
   "execution_count": 18,
   "metadata": {},
   "outputs": [
    {
     "name": "stdout",
     "output_type": "stream",
     "text": [
      "Довірчий інтервал: [-0.02401656793988917, 0.014591003146749932]\n"
     ]
    }
   ],
   "source": [
    "len_3 = conf_int_for_a_no_dist(10000)"
   ]
  },
  {
   "cell_type": "markdown",
   "metadata": {},
   "source": [
    "d) $n=100000$"
   ]
  },
  {
   "cell_type": "code",
   "execution_count": 19,
   "metadata": {},
   "outputs": [
    {
     "name": "stdout",
     "output_type": "stream",
     "text": [
      "Довірчий інтервал: [-0.004934182319915273, 0.007427738451508588]\n"
     ]
    }
   ],
   "source": [
    "len_4 = conf_int_for_a_no_dist(100000)"
   ]
  },
  {
   "cell_type": "code",
   "execution_count": 20,
   "metadata": {},
   "outputs": [
    {
     "name": "stdout",
     "output_type": "stream",
     "text": [
      "Практична швидкість збіжності: 0.31152431176867035\n",
      "Теоретична швидкість збіжності: 0.31622776601683794\n"
     ]
    }
   ],
   "source": [
    "len_change = np.mean(np.array([len_2/len_1,len_3/len_2,len_4/len_3])) \n",
    "print(\"Практична швидкість збіжності: {0}\".format(len_change))\n",
    "print(\"Теоретична швидкість збіжності: {0}\".format(1/sqrt(10)))"
   ]
  },
  {
   "cell_type": "markdown",
   "metadata": {},
   "source": [
    "2) Довірчий інтервал для $\\sigma^2$"
   ]
  },
  {
   "cell_type": "code",
   "execution_count": 21,
   "metadata": {},
   "outputs": [],
   "source": [
    "gamma = 0.05"
   ]
  },
  {
   "cell_type": "code",
   "execution_count": 22,
   "metadata": {},
   "outputs": [],
   "source": [
    "def conf_int_for_sigma_square(n):\n",
    "    z_gamma_1 = chi2.ppf(0.5*gamma, df = n-1)\n",
    "    z_gamma_2 = chi2.ppf(1-0.5*gamma, df = n-1)\n",
    "    sel = np.random.normal(size = n, loc = 0, scale = 1)\n",
    "    a_est = np.mean(sel)\n",
    "    sigma_est = np.mean(np.square((np.subtract(sel,a_est))))\n",
    "    a = (n*sigma_est)/z_gamma_2\n",
    "    b = (n*sigma_est)/z_gamma_1\n",
    "    print('Довірчий інтервал: [{0}, {1}]'.format(a, b))\n",
    "    return abs(a - b)"
   ]
  },
  {
   "cell_type": "markdown",
   "metadata": {},
   "source": [
    "2.1) $n=100$"
   ]
  },
  {
   "cell_type": "code",
   "execution_count": 23,
   "metadata": {},
   "outputs": [
    {
     "name": "stdout",
     "output_type": "stream",
     "text": [
      "Довірчий інтервал: [0.6914223192938422, 1.2103669821236012]\n"
     ]
    }
   ],
   "source": [
    "len_1 = conf_int_for_sigma_square(100)"
   ]
  },
  {
   "cell_type": "markdown",
   "metadata": {},
   "source": [
    "2.2) $n=1000$"
   ]
  },
  {
   "cell_type": "code",
   "execution_count": 24,
   "metadata": {},
   "outputs": [
    {
     "name": "stdout",
     "output_type": "stream",
     "text": [
      "Довірчий інтервал: [0.942809213272692, 1.1236554409641815]\n"
     ]
    }
   ],
   "source": [
    "len_2 = conf_int_for_sigma_square(1000)"
   ]
  },
  {
   "cell_type": "markdown",
   "metadata": {},
   "source": [
    "2.3) $n=10000$"
   ]
  },
  {
   "cell_type": "code",
   "execution_count": 25,
   "metadata": {},
   "outputs": [
    {
     "name": "stdout",
     "output_type": "stream",
     "text": [
      "Довірчий інтервал: [0.9738825698280416, 1.0294010219559433]\n"
     ]
    }
   ],
   "source": [
    "len_3 = conf_int_for_sigma_square(10000)"
   ]
  },
  {
   "cell_type": "markdown",
   "metadata": {},
   "source": [
    "2.4) $n=100000$"
   ]
  },
  {
   "cell_type": "code",
   "execution_count": 26,
   "metadata": {},
   "outputs": [
    {
     "name": "stdout",
     "output_type": "stream",
     "text": [
      "Довірчий інтервал: [0.9895032254312747, 1.0070027758503333]\n"
     ]
    }
   ],
   "source": [
    "len_4 = conf_int_for_sigma_square(100000)"
   ]
  },
  {
   "cell_type": "code",
   "execution_count": 27,
   "metadata": {},
   "outputs": [
    {
     "name": "stdout",
     "output_type": "stream",
     "text": [
      "Практична швидкість збіжності: 0.32356115778211686\n",
      "Теоретична швидкість збіжності: 0.31622776601683794\n"
     ]
    }
   ],
   "source": [
    "len_change = np.mean(np.array([len_2/len_1,len_3/len_2,len_4/len_3])) \n",
    "print(\"Практична швидкість збіжності: {0}\".format(len_change))\n",
    "print(\"Теоретична швидкість збіжності: {0}\".format(1/sqrt(10)))"
   ]
  },
  {
   "cell_type": "markdown",
   "metadata": {},
   "source": [
    "# Обчислення інтегралу"
   ]
  },
  {
   "cell_type": "markdown",
   "metadata": {},
   "source": [
    "3) Обчислення інтегралу $I=P\\{\\xi < \\eta\\}$ трьома способами, де $\\xi \\sim F(u)$, $\\eta \\sim G(u)$."
   ]
  },
  {
   "cell_type": "code",
   "execution_count": 28,
   "metadata": {},
   "outputs": [],
   "source": [
    "def F(u, alpha):\n",
    "    return 1 - np.exp(-((alpha * u) ** 2))\n",
    "def G(u):\n",
    "    return 1 - np.exp(-(u ** 3))"
   ]
  },
  {
   "cell_type": "markdown",
   "metadata": {},
   "source": [
    "Знайдемо інтеграл аналітично. Для цього перетворюємо абстрактний інтеграл Лебега у звичайний інтеграл Рімана знаходячи $dG(u)$: $$dG(u)=d(1-e^{-u^3})=3 u^2 \\cdot e^{-u^3} du$$"
   ]
  },
  {
   "cell_type": "code",
   "execution_count": 29,
   "metadata": {},
   "outputs": [],
   "source": [
    "def der_G(u):\n",
    "    return 3*u**2*np.exp(-(u ** 3))"
   ]
  },
  {
   "cell_type": "code",
   "execution_count": 30,
   "metadata": {},
   "outputs": [
    {
     "data": {
      "text/plain": [
       "0.008968252631338332"
      ]
     },
     "execution_count": 30,
     "metadata": {},
     "output_type": "execute_result"
    }
   ],
   "source": [
    "integrate.quad(lambda x: F(x,0.1)*der_G(x), 0, np.inf)[0]"
   ]
  },
  {
   "cell_type": "code",
   "execution_count": 31,
   "metadata": {},
   "outputs": [
    {
     "data": {
      "text/plain": [
       "9.026857642092574e-05"
      ]
     },
     "execution_count": 31,
     "metadata": {},
     "output_type": "execute_result"
    }
   ],
   "source": [
    "integrate.quad(lambda x: F(x,0.01)*der_G(x), 0, np.inf)[0]"
   ]
  },
  {
   "cell_type": "code",
   "execution_count": 32,
   "metadata": {},
   "outputs": [
    {
     "data": {
      "text/plain": [
       "9.027446975273493e-07"
      ]
     },
     "execution_count": 32,
     "metadata": {},
     "output_type": "execute_result"
    }
   ],
   "source": [
    "integrate.quad(lambda x: F(x,0.001)*der_G(x), 0, np.inf)[0]"
   ]
  },
  {
   "cell_type": "markdown",
   "metadata": {},
   "source": [
    "Обчислимо інтеграл 3-ьома способами за допомогою числових методів."
   ]
  },
  {
   "cell_type": "markdown",
   "metadata": {},
   "source": [
    "3.1) Перший спосіб: обчислюємо ймовірність за формулою $$I=\\int_{0}^{\\infty}{F(u) dG(u)}$$"
   ]
  },
  {
   "cell_type": "markdown",
   "metadata": {},
   "source": [
    "Якщо $\\omega \\sim U([0,1])$, то $\\eta = (-\\ln \\omega)^{\\frac{1}{3}}$, і в такому разі $\\eta \\sim G(u)$."
   ]
  },
  {
   "cell_type": "code",
   "execution_count": 33,
   "metadata": {},
   "outputs": [],
   "source": [
    "def gen_eta(n):\n",
    "    sel = np.random.uniform(size = n, low = 0, high = 1)\n",
    "    trans = np.vectorize(lambda t: (-log(t))**(1/3))\n",
    "    sel = trans(sel)\n",
    "    return sel"
   ]
  },
  {
   "cell_type": "markdown",
   "metadata": {},
   "source": [
    "З іншого боку той самий інтеграл можна обчислити як: $$I=MF(\\eta)$$\n",
    "Таким чином, якщо зможемо згенерувати вибірку $\\eta_1,\\ldots,\\eta_n$, застосувати до кожного елементу функцію $F(\\eta_1),\\ldots,F(\\eta_n)$, тоді за законом великих чисел: $$\\frac{F(\\eta_1)+\\ldots+F(\\eta_n)}{n} \\longrightarrow MF(\\eta)$$\n",
    "при $n \\to \\infty$.\n"
   ]
  },
  {
   "cell_type": "markdown",
   "metadata": {},
   "source": [
    "Для того, щоб обчислити з заданою точністю, нам необхідно знайти значення $n$. Будемо використовувати наступну формулу: $$n^{*}=\\min_{n}{\\{n \\ge n_0: n \\ge \\frac{z_{\\gamma}^2 \\cdot \\hat{\\sigma}^2}{\\varepsilon^2 \\cdot \\hat{a}^2}\\}}$$"
   ]
  },
  {
   "cell_type": "code",
   "execution_count": 34,
   "metadata": {},
   "outputs": [],
   "source": [
    "def find_n_and_I_with_F(n_zero, alpha, eps):\n",
    "    gamma = 0.05\n",
    "    z_gamma = norm.ppf(1-0.5*gamma, loc = 0, scale=1)\n",
    "    step = 100\n",
    "    i = n_zero\n",
    "    sel = gen_eta(i)\n",
    "    sel = F(sel,alpha)\n",
    "    a_est = np.mean(sel)\n",
    "    sigma_est = 1/(i-1)*(np.sum(np.square(sel)) - (1/i)*a_est**2)\n",
    "    while i < (z_gamma**2 * sigma_est)/(eps**2 * a_est**2):        \n",
    "        sel = np.concatenate((sel, F(gen_eta(step), alpha)), axis = 0)\n",
    "        a_est = np.mean(sel)\n",
    "        sigma_est = 1/(i-1)*(np.sum(np.square(sel)) - (1/i)*a_est**2)\n",
    "        i = i + step\n",
    "    print(\"Довірчий інтервал: [{0}, {1}]\".format(a_est - eps*a_est, a_est + eps*a_est))\n",
    "    print(\"Номер ітерації: {0}\".format(i))"
   ]
  },
  {
   "cell_type": "markdown",
   "metadata": {},
   "source": [
    "3.2) Другий спосіб: обчислюємо ймовірність за формулою $$I=\\int_{0}^{\\infty}{(1-G(u)) dF(u)}$$"
   ]
  },
  {
   "cell_type": "markdown",
   "metadata": {},
   "source": [
    "Якщо $\\omega \\sim U([0,1])$, то $\\xi = \\frac{1}{\\alpha}(-\\ln \\omega)^{\\frac{1}{2}}$, і в такому разі $\\xi \\sim F(u)$."
   ]
  },
  {
   "cell_type": "code",
   "execution_count": 35,
   "metadata": {},
   "outputs": [],
   "source": [
    "def gen_xi(n, alpha):\n",
    "    sel = np.random.uniform(size = n, low = 0, high = 1)\n",
    "    trans = np.vectorize(lambda t: (1/alpha)*sqrt(-log(t)))\n",
    "    sel = trans(sel)\n",
    "    return sel"
   ]
  },
  {
   "cell_type": "markdown",
   "metadata": {},
   "source": [
    "З іншого боку той самий інтеграл можна обчислити як: $$I=M[1-G(\\xi)]$$\n",
    "Таким чином, якщо зможемо згенерувати вибірку $\\xi_1,\\ldots,\\xi_n$, застосувати до кожного елементу функцію $G(\\eta_1),\\ldots,G(\\eta_n)$, тоді за законом великих чисел: $$1 - \\frac{G(\\xi_1)+\\ldots+G(\\xi_n)}{n} \\longrightarrow M[1-G(\\xi)]$$\n",
    "при $n \\to \\infty$.\n"
   ]
  },
  {
   "cell_type": "markdown",
   "metadata": {},
   "source": [
    "Для того, щоб обчислити з заданою точністю, нам необхідно знайти значення $n$. Будемо використовувати наступну формулу: $$n^{*}=\\min_{n}{\\{n \\ge n_0: n \\ge \\frac{z_{\\gamma}^2 \\cdot \\hat{\\sigma}^2}{\\varepsilon^2 \\cdot \\hat{a}^2}\\}}$$"
   ]
  },
  {
   "cell_type": "code",
   "execution_count": 36,
   "metadata": {},
   "outputs": [],
   "source": [
    "def find_n_and_I_with_G(n_zero, alpha, eps):\n",
    "    gamma = 0.05\n",
    "    z_gamma = norm.ppf(1-0.5*gamma, loc = 0, scale=1)\n",
    "    step = 10000\n",
    "    i = n_zero\n",
    "    sel = gen_xi(i, alpha)\n",
    "    sel = 1 - G(sel)\n",
    "    a_est = np.mean(sel)\n",
    "    sigma_est = 1/(i-1)*(np.sum(np.square(sel)) - (1/i)*a_est**2)\n",
    "    while i < (z_gamma ** 2 * sigma_est)/(eps**2 * a_est ** 2):        \n",
    "        sel = np.concatenate((sel, 1 - G(gen_xi(step, alpha))), axis = 0)\n",
    "        a_est = np.mean(sel)\n",
    "        sigma_est = 1/(i-1)*(np.sum(np.square(sel)) - (1/i)*a_est**2)\n",
    "        i = i + step\n",
    "    print(\"Довірчий інтервал: [{0}, {1}]\".format(a_est - eps*a_est, a_est + eps*a_est))\n",
    "    print(\"Номер ітерації: {0}\".format(i))"
   ]
  },
  {
   "cell_type": "markdown",
   "metadata": {},
   "source": [
    "3.3) Значення $I$ можна також обчислити за допомогою методу Монте-Карло: генеруємо великі вибірки $\\{\\xi_{i}\\}$, $\\{\\eta_{i}\\}$,$i=\\overline{1,n}$ а потім обчислюємо кількість пар $(\\xi_{i}, \\eta_{i})$ таких, що $\\xi_{i}<\\eta_{i}$. Шукану ймовірність апроксимуємо частотою такої події."
   ]
  },
  {
   "cell_type": "code",
   "execution_count": 37,
   "metadata": {},
   "outputs": [],
   "source": [
    "def find_I_with_MK(n, alpha):\n",
    "    xi = gen_xi(n, alpha)\n",
    "    eta = gen_eta(n)\n",
    "    prob = np.sum(xi<eta)/n\n",
    "    return prob       "
   ]
  },
  {
   "cell_type": "markdown",
   "metadata": {},
   "source": [
    "Перевіримо реалізовані функції на вхідних даних:"
   ]
  },
  {
   "cell_type": "code",
   "execution_count": 38,
   "metadata": {},
   "outputs": [],
   "source": [
    "n_zero = 1000\n",
    "alpha = 0.1\n",
    "eps = 0.01"
   ]
  },
  {
   "cell_type": "code",
   "execution_count": 39,
   "metadata": {},
   "outputs": [
    {
     "name": "stdout",
     "output_type": "stream",
     "text": [
      "Довірчий інтервал: [0.008841302824097412, 0.009019915002362008]\n",
      "Номер ітерації: 56100\n"
     ]
    }
   ],
   "source": [
    "find_n_and_I_with_F(n_zero, alpha, eps)"
   ]
  },
  {
   "cell_type": "code",
   "execution_count": 40,
   "metadata": {},
   "outputs": [],
   "source": [
    "n_zero = 1000\n",
    "alpha = 0.01\n",
    "eps = 0.01"
   ]
  },
  {
   "cell_type": "code",
   "execution_count": 41,
   "metadata": {},
   "outputs": [
    {
     "name": "stdout",
     "output_type": "stream",
     "text": [
      "Довірчий інтервал: [8.950849644280421e-05, 9.13167488961942e-05]\n",
      "Номер ітерації: 56300\n"
     ]
    }
   ],
   "source": [
    "find_n_and_I_with_F(n_zero, alpha, eps)"
   ]
  },
  {
   "cell_type": "code",
   "execution_count": 42,
   "metadata": {},
   "outputs": [],
   "source": [
    "n_zero = 1000\n",
    "alpha = 0.001\n",
    "eps = 0.01"
   ]
  },
  {
   "cell_type": "code",
   "execution_count": 43,
   "metadata": {},
   "outputs": [
    {
     "name": "stdout",
     "output_type": "stream",
     "text": [
      "Довірчий інтервал: [8.930514840323459e-07, 9.110929281542116e-07]\n",
      "Номер ітерації: 56200\n"
     ]
    }
   ],
   "source": [
    "find_n_and_I_with_F(n_zero, alpha, eps)"
   ]
  },
  {
   "cell_type": "code",
   "execution_count": 44,
   "metadata": {},
   "outputs": [],
   "source": [
    "n_zero = 1000\n",
    "alpha = 0.1\n",
    "eps = 0.01"
   ]
  },
  {
   "cell_type": "code",
   "execution_count": 45,
   "metadata": {},
   "outputs": [
    {
     "name": "stdout",
     "output_type": "stream",
     "text": [
      "Довірчий інтервал: [0.008836453642628014, 0.0090149678576306]\n",
      "Номер ітерації: 2731000\n"
     ]
    }
   ],
   "source": [
    "find_n_and_I_with_G(n_zero, alpha, eps)"
   ]
  },
  {
   "cell_type": "markdown",
   "metadata": {},
   "source": [
    "Застосовуємо метод Монте-Карло."
   ]
  },
  {
   "cell_type": "code",
   "execution_count": 46,
   "metadata": {},
   "outputs": [],
   "source": [
    "size = 10000000\n",
    "alpha = 0.1"
   ]
  },
  {
   "cell_type": "code",
   "execution_count": 47,
   "metadata": {},
   "outputs": [
    {
     "data": {
      "text/plain": [
       "0.008963"
      ]
     },
     "execution_count": 47,
     "metadata": {},
     "output_type": "execute_result"
    }
   ],
   "source": [
    "find_I_with_MK(size, alpha)"
   ]
  },
  {
   "cell_type": "markdown",
   "metadata": {},
   "source": [
    "Побудуємо графік збіжності значеннь інтегралу"
   ]
  },
  {
   "cell_type": "code",
   "execution_count": 48,
   "metadata": {},
   "outputs": [],
   "source": [
    "def plot_I_per_n(n_max, alpha):\n",
    "    sel = gen_eta(n_max)\n",
    "    sel = F(sel, alpha)\n",
    "    I_values = np.array([])\n",
    "    for i in range(n_max):\n",
    "        I_values = np.append(I_values, np.mean(sel[:i+1]))\n",
    "    plt.plot(range (n_max),I_values, '-')"
   ]
  },
  {
   "cell_type": "code",
   "execution_count": 49,
   "metadata": {
    "scrolled": true
   },
   "outputs": [
    {
     "data": {
      "image/png": "[encoded data removed]",
      "text/plain": [
       "<matplotlib.figure.Figure at 0x16e70093dd8>"
      ]
     },
     "metadata": {},
     "output_type": "display_data"
    }
   ],
   "source": [
    "plot_I_per_n(30000, 0.001)"
   ]
  },
  {
   "cell_type": "code",
   "execution_count": 50,
   "metadata": {},
   "outputs": [],
   "source": [
    "def plot_I_per_n_v2(n_max, alpha):\n",
    "    sel = gen_xi(n_max, alpha)\n",
    "    sel = 1 - G(sel)\n",
    "    I_values = np.array([])\n",
    "    for i in range(n_max):\n",
    "        I_values = np.append(I_values, np.mean(sel[:i+1]))\n",
    "    plt.plot(range (n_max),I_values, '-')"
   ]
  },
  {
   "cell_type": "code",
   "execution_count": 52,
   "metadata": {},
   "outputs": [
    {
     "data": {
      "image/png": "[encoded data removed]",
      "text/plain": [
       "<matplotlib.figure.Figure at 0x16e67621438>"
      ]
     },
     "metadata": {},
     "output_type": "display_data"
    }
   ],
   "source": [
    "plot_I_per_n_v2(30000, 0.1)"
   ]
  }
 ],
 "metadata": {
  "kernelspec": {
   "display_name": "Python 3",
   "language": "python",
   "name": "python3"
  },
  "language_info": {
   "codemirror_mode": {
    "name": "ipython",
    "version": 3
   },
   "file_extension": ".py",
   "mimetype": "text/x-python",
   "name": "python",
   "nbconvert_exporter": "python",
   "pygments_lexer": "ipython3",
   "version": "3.6.4"
  }
 },
 "nbformat": 4,
 "nbformat_minor": 2
}
