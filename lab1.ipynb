{
 "cells": [
  {
   "cell_type": "code",
   "execution_count": 5,
   "metadata": {},
   "outputs": [],
   "source": [
    "import numpy as np\n",
    "# import matplotlib.pyplot as plt\n",
    "from scipy.stats import norm\n",
    "from scipy.stats import t as stud\n",
    "from scipy.stats import chi2\n",
    "from math import sqrt\n",
    "from math import log\n",
    "# %matplotlib inline"
   ]
  },
  {
   "cell_type": "markdown",
   "metadata": {},
   "source": [
    "1) Довірчі інтервали для нормального розподілу"
   ]
  },
  {
   "cell_type": "code",
   "execution_count": 6,
   "metadata": {},
   "outputs": [],
   "source": [
    "gamma = 0.05"
   ]
  },
  {
   "cell_type": "markdown",
   "metadata": {},
   "source": [
    "1.1) Для мат. сподівання $M \\xi =a$ в припущенні, що відомо $D \\xi=1$."
   ]
  },
  {
   "cell_type": "code",
   "execution_count": 10,
   "metadata": {},
   "outputs": [],
   "source": [
    "def conf_int_for_a(n, sigma):\n",
    "    z_gamma = norm.ppf(1-gamma, loc = 0, scale=1)\n",
    "    sel = np.random.normal(size = n, loc = 0, scale = sigma)\n",
    "    a_est = np.mean(sel)\n",
    "    a = a_est - z_gamma*sigma/sqrt(n)\n",
    "    b = a_est + z_gamma*sigma/sqrt(n)\n",
    "    print('Довірчий інтервал: [{0}, {1}]'.format(a, b))\n",
    "    print('Довжина інтервалу: {0}'.format(abs(b-a)))\n",
    "    return abs(b-a)"
   ]
  },
  {
   "cell_type": "markdown",
   "metadata": {},
   "source": [
    "a) $n = 100$"
   ]
  },
  {
   "cell_type": "code",
   "execution_count": 11,
   "metadata": {},
   "outputs": [
    {
     "name": "stdout",
     "output_type": "stream",
     "text": [
      "Довірчий інтервал: [-0.20636933038452474, 0.12260139500576969]\n",
      "Довжина інтервалу: 0.3289707253902944\n"
     ]
    }
   ],
   "source": [
    "length_1 = conf_int_for_a(100, 1)"
   ]
  },
  {
   "cell_type": "markdown",
   "metadata": {},
   "source": [
    "b) $n=1000$"
   ]
  },
  {
   "cell_type": "code",
   "execution_count": 12,
   "metadata": {},
   "outputs": [
    {
     "name": "stdout",
     "output_type": "stream",
     "text": [
      "Довірчий інтервал: [-0.06012381695901961, 0.04390586061609186]\n",
      "Довжина інтервалу: 0.10402967757511147\n"
     ]
    }
   ],
   "source": [
    "length_2 = conf_int_for_a(1000, 1)"
   ]
  },
  {
   "cell_type": "markdown",
   "metadata": {},
   "source": [
    "c) $n=10000$"
   ]
  },
  {
   "cell_type": "code",
   "execution_count": 13,
   "metadata": {},
   "outputs": [
    {
     "name": "stdout",
     "output_type": "stream",
     "text": [
      "Довірчий інтервал: [-0.017379325613681156, 0.015517746925348288]\n",
      "Довжина інтервалу: 0.032897072539029446\n"
     ]
    }
   ],
   "source": [
    "length_3 = conf_int_for_a(10000, 1)"
   ]
  },
  {
   "cell_type": "markdown",
   "metadata": {},
   "source": [
    "d) $n=100000$"
   ]
  },
  {
   "cell_type": "code",
   "execution_count": 14,
   "metadata": {},
   "outputs": [
    {
     "name": "stdout",
     "output_type": "stream",
     "text": [
      "Довірчий інтервал: [-0.004387648697253539, 0.006015319060257608]\n",
      "Довжина інтервалу: 0.010402967757511147\n"
     ]
    }
   ],
   "source": [
    "length_4 = conf_int_for_a(100000, 1)"
   ]
  },
  {
   "cell_type": "markdown",
   "metadata": {},
   "source": [
    "Обчислимо швидкість збіжності нашого довірчого інтервалу. При кожному обчисленні збільшували розмір вибірки в 10 разів, а тому очікуємо побачити швидкість збіжності $\\frac{1}{\\sqrt{n}}=\\frac{1}{\\sqrt{10}}$."
   ]
  },
  {
   "cell_type": "code",
   "execution_count": 15,
   "metadata": {},
   "outputs": [
    {
     "name": "stdout",
     "output_type": "stream",
     "text": [
      "Практична швидкість збіжності: 0.31622776601683794\n",
      "Теоретична швидкість збіжності: 0.31622776601683794\n"
     ]
    }
   ],
   "source": [
    "len_change = np.mean(np.array([length_2/length_1,length_3/length_2,length_4/length_3])) \n",
    "print(\"Практична швидкість збіжності: {0}\".format(len_change))\n",
    "print(\"Теоретична швидкість збіжності: {0}\".format(1/sqrt(10)))"
   ]
  },
  {
   "cell_type": "markdown",
   "metadata": {},
   "source": [
    "1.2) Для мат. сподівання $M \\xi =a$ в припущенні, що не відомо $D \\xi$."
   ]
  },
  {
   "cell_type": "code",
   "execution_count": 9,
   "metadata": {},
   "outputs": [],
   "source": [
    "def conf_int_for_a_no_sigma(n):\n",
    "    sel = np.random.normal(size = n, loc = 0, scale = 1)\n",
    "    a_est = np.mean(sel)\n",
    "    sigma_est = np.mean(np.square((np.subtract(sel,a_est))))\n",
    "    z_gamma = stud.ppf(1 - gamma, df = n)\n",
    "    a = a_est - z_gamma*sigma_est/sqrt(n-1)\n",
    "    b = a_est + z_gamma*sigma_est/sqrt(n-1)\n",
    "    print('Довірчий інтервал: [{0}, {1}]'.format(a, b))\n",
    "    return abs(a-b)"
   ]
  },
  {
   "cell_type": "markdown",
   "metadata": {},
   "source": [
    "a) $n = 100$"
   ]
  },
  {
   "cell_type": "code",
   "execution_count": 10,
   "metadata": {},
   "outputs": [
    {
     "name": "stdout",
     "output_type": "stream",
     "text": [
      "Довірчий інтервал: [-0.14728286802763035, 0.10847205871166415]\n"
     ]
    }
   ],
   "source": [
    "len_1 = conf_int_for_a_no_sigma(100)"
   ]
  },
  {
   "cell_type": "markdown",
   "metadata": {},
   "source": [
    "b) $n = 1000$"
   ]
  },
  {
   "cell_type": "code",
   "execution_count": 11,
   "metadata": {},
   "outputs": [
    {
     "name": "stdout",
     "output_type": "stream",
     "text": [
      "Довірчий інтервал: [-0.11574688664319084, -0.009349501565126553]\n"
     ]
    }
   ],
   "source": [
    "len_2 = conf_int_for_a_no_sigma(1000)"
   ]
  },
  {
   "cell_type": "markdown",
   "metadata": {},
   "source": [
    "c) $n = 10000$"
   ]
  },
  {
   "cell_type": "code",
   "execution_count": 12,
   "metadata": {},
   "outputs": [
    {
     "name": "stdout",
     "output_type": "stream",
     "text": [
      "Довірчий інтервал: [-0.024752569506571565, 0.008018166397090541]\n"
     ]
    }
   ],
   "source": [
    "len_3 = conf_int_for_a_no_sigma(10000)"
   ]
  },
  {
   "cell_type": "markdown",
   "metadata": {},
   "source": [
    "d) $n = 100000$"
   ]
  },
  {
   "cell_type": "code",
   "execution_count": 13,
   "metadata": {},
   "outputs": [
    {
     "name": "stdout",
     "output_type": "stream",
     "text": [
      "Довірчий інтервал: [-0.008509313240013174, 0.001938508261791197]\n"
     ]
    }
   ],
   "source": [
    "len_4 = conf_int_for_a_no_sigma(100000)"
   ]
  },
  {
   "cell_type": "code",
   "execution_count": 14,
   "metadata": {},
   "outputs": [
    {
     "name": "stdout",
     "output_type": "stream",
     "text": [
      "Практична швидкість збіжності: 0.34761061325849174\n",
      "Теоретична швидкість збіжності: 0.31622776601683794\n"
     ]
    }
   ],
   "source": [
    "len_change = np.mean(np.array([len_2/len_1,len_3/len_2,len_4/len_3])) \n",
    "print(\"Практична швидкість збіжності: {0}\".format(len_change))\n",
    "print(\"Теоретична швидкість збіжності: {0}\".format(1/sqrt(10)))"
   ]
  },
  {
   "cell_type": "markdown",
   "metadata": {},
   "source": [
    "1.3) Для мат. сподівання у припущенні, що не відомо, що розподіл нормальний."
   ]
  },
  {
   "cell_type": "code",
   "execution_count": 15,
   "metadata": {},
   "outputs": [],
   "source": [
    "def conf_int_for_a_no_dist(n):\n",
    "    sel = np.random.normal(size = n, loc = 0, scale = 1)\n",
    "    a_est = np.mean(sel)\n",
    "    sigma_est = 1/(n-1)*(np.sum(np.square(sel)) - (1/n)*a_est**2)\n",
    "    z_gamma = norm.ppf(1-gamma, loc = 0, scale=1)\n",
    "    a = a_est - z_gamma*sigma_est/sqrt(n)\n",
    "    b = a_est + z_gamma*sigma_est/sqrt(n)\n",
    "    print('Довірчий інтервал: [{0}, {1}]'.format(a, b))\n",
    "    return abs(a-b)"
   ]
  },
  {
   "cell_type": "markdown",
   "metadata": {},
   "source": [
    "a) $n = 100$"
   ]
  },
  {
   "cell_type": "code",
   "execution_count": 16,
   "metadata": {},
   "outputs": [
    {
     "name": "stdout",
     "output_type": "stream",
     "text": [
      "Довірчий інтервал: [-0.2226335710462683, 0.0799063234437659]\n"
     ]
    }
   ],
   "source": [
    "len_1 = conf_int_for_a_no_dist(100)"
   ]
  },
  {
   "cell_type": "markdown",
   "metadata": {},
   "source": [
    "b) $n = 1000$"
   ]
  },
  {
   "cell_type": "code",
   "execution_count": 17,
   "metadata": {},
   "outputs": [
    {
     "name": "stdout",
     "output_type": "stream",
     "text": [
      "Довірчий інтервал: [-0.06721913772660075, 0.03422413505978705]\n"
     ]
    }
   ],
   "source": [
    "len_2 = conf_int_for_a_no_dist(1000)"
   ]
  },
  {
   "cell_type": "markdown",
   "metadata": {},
   "source": [
    "c) $n=10000$"
   ]
  },
  {
   "cell_type": "code",
   "execution_count": 18,
   "metadata": {},
   "outputs": [
    {
     "name": "stdout",
     "output_type": "stream",
     "text": [
      "Довірчий інтервал: [-0.012703153576756401, 0.020212619563252335]\n"
     ]
    }
   ],
   "source": [
    "len_3 = conf_int_for_a_no_dist(10000)"
   ]
  },
  {
   "cell_type": "markdown",
   "metadata": {},
   "source": [
    "d) $n=100000$"
   ]
  },
  {
   "cell_type": "code",
   "execution_count": 19,
   "metadata": {},
   "outputs": [
    {
     "name": "stdout",
     "output_type": "stream",
     "text": [
      "Довірчий інтервал: [-0.00715552901446762, 0.0032528190750406505]\n"
     ]
    }
   ],
   "source": [
    "len_4 = conf_int_for_a_no_dist(100000)"
   ]
  },
  {
   "cell_type": "code",
   "execution_count": 20,
   "metadata": {},
   "outputs": [
    {
     "name": "stdout",
     "output_type": "stream",
     "text": [
      "Практична швидкість збіжності: 0.3253305604574648\n",
      "Теоретична швидкість збіжності: 0.31622776601683794\n"
     ]
    }
   ],
   "source": [
    "len_change = np.mean(np.array([len_2/len_1,len_3/len_2,len_4/len_3])) \n",
    "print(\"Практична швидкість збіжності: {0}\".format(len_change))\n",
    "print(\"Теоретична швидкість збіжності: {0}\".format(1/sqrt(10)))"
   ]
  },
  {
   "cell_type": "markdown",
   "metadata": {},
   "source": [
    "2) Довірчий інтервал для $\\sigma^2$"
   ]
  },
  {
   "cell_type": "code",
   "execution_count": 21,
   "metadata": {},
   "outputs": [],
   "source": [
    "gamma = 0.05"
   ]
  },
  {
   "cell_type": "code",
   "execution_count": 22,
   "metadata": {},
   "outputs": [],
   "source": [
    "def conf_int_for_sigma_square(n):\n",
    "    z_gamma_1 = chi2.ppf(gamma, df = n-1)\n",
    "    z_gamma_2 = chi2.ppf(1-gamma, df = n-1)\n",
    "    sel = np.random.normal(size = n, loc = 0, scale = 1)\n",
    "    a_est = np.mean(sel)\n",
    "    sigma_est = np.mean(np.square((np.subtract(sel,a_est))))\n",
    "    a = (n*sigma_est)/z_gamma_2\n",
    "    b = (n*sigma_est)/z_gamma_1\n",
    "    print('Довірчий інтервал: [{0}, {1}]'.format(a, b))\n",
    "    return abs(a - b)"
   ]
  },
  {
   "cell_type": "markdown",
   "metadata": {},
   "source": [
    "2.1) $n=100$"
   ]
  },
  {
   "cell_type": "code",
   "execution_count": 23,
   "metadata": {},
   "outputs": [
    {
     "name": "stdout",
     "output_type": "stream",
     "text": [
      "Довірчий інтервал: [0.7199571552571785, 1.1514744147764846]\n"
     ]
    }
   ],
   "source": [
    "len_1 = conf_int_for_sigma_square(100)"
   ]
  },
  {
   "cell_type": "markdown",
   "metadata": {},
   "source": [
    "2.2) $n=1000$"
   ]
  },
  {
   "cell_type": "code",
   "execution_count": 24,
   "metadata": {},
   "outputs": [
    {
     "name": "stdout",
     "output_type": "stream",
     "text": [
      "Довірчий інтервал: [0.9026291141254789, 1.0458326414229622]\n"
     ]
    }
   ],
   "source": [
    "len_2 = conf_int_for_sigma_square(1000)"
   ]
  },
  {
   "cell_type": "markdown",
   "metadata": {},
   "source": [
    "2.3) $n=10000$"
   ]
  },
  {
   "cell_type": "code",
   "execution_count": 25,
   "metadata": {},
   "outputs": [
    {
     "name": "stdout",
     "output_type": "stream",
     "text": [
      "Довірчий інтервал: [0.9633801192293767, 1.0092632239469779]\n"
     ]
    }
   ],
   "source": [
    "len_3 = conf_int_for_sigma_square(10000)"
   ]
  },
  {
   "cell_type": "markdown",
   "metadata": {},
   "source": [
    "2.4) $n=100000$"
   ]
  },
  {
   "cell_type": "code",
   "execution_count": 26,
   "metadata": {},
   "outputs": [
    {
     "name": "stdout",
     "output_type": "stream",
     "text": [
      "Довірчий інтервал: [0.9950866081534518, 1.009834698282898]\n"
     ]
    }
   ],
   "source": [
    "len_4 = conf_int_for_sigma_square(100000)"
   ]
  },
  {
   "cell_type": "code",
   "execution_count": 27,
   "metadata": {},
   "outputs": [
    {
     "name": "stdout",
     "output_type": "stream",
     "text": [
      "Практична швидкість збіжності: 0.32456426763434804\n",
      "Теоретична швидкість збіжності: 0.31622776601683794\n"
     ]
    }
   ],
   "source": [
    "len_change = np.mean(np.array([len_2/len_1,len_3/len_2,len_4/len_3])) \n",
    "print(\"Практична швидкість збіжності: {0}\".format(len_change))\n",
    "print(\"Теоретична швидкість збіжності: {0}\".format(1/sqrt(10)))"
   ]
  },
  {
   "cell_type": "markdown",
   "metadata": {},
   "source": [
    "3) Обчислення інтегралу $I=P\\{\\xi < \\eta\\}$ двома способами, де $\\xi \\sim F(u)$, $\\eta \\sim G(u)$."
   ]
  },
  {
   "cell_type": "code",
   "execution_count": 28,
   "metadata": {},
   "outputs": [],
   "source": [
    "def F(u, alpha):\n",
    "    return 1 - np.exp(-((alpha * u) ** 2))\n",
    "def G(u):\n",
    "    return 1 - np.exp(-(u ** 3))"
   ]
  },
  {
   "cell_type": "markdown",
   "metadata": {},
   "source": [
    "3.1) Перший спосіб: обчислюємо ймовірність за формулою $$I=\\int_{0}^{\\infty}{F(u) dG(u)}$$"
   ]
  },
  {
   "cell_type": "markdown",
   "metadata": {},
   "source": [
    "Якщо $\\omega \\sim U([0,1])$, то $\\eta = (\\ln (-\\omega))^{\\frac{1}{3}}$, і в такому разі $\\eta \\sim G(u)$."
   ]
  },
  {
   "cell_type": "code",
   "execution_count": 29,
   "metadata": {},
   "outputs": [],
   "source": [
    "def gen_eta(n):\n",
    "    sel = np.random.uniform(size = n, low = 0, high = 1)\n",
    "    trans = np.vectorize(lambda t: (-log(t))**(1/3))\n",
    "    sel = trans(sel)\n",
    "    return sel"
   ]
  },
  {
   "cell_type": "markdown",
   "metadata": {},
   "source": [
    "З іншого боку той самий інтеграл можна обчислити як: $$I=MF(\\eta)$$\n",
    "Таким чином, якщо зможемо згенерувати вибірку $\\eta_1,\\ldots,\\eta_n$, застосувати до кожного елементу функцію $F(\\eta_1),\\ldots,F(\\eta_n)$, тоді за законом великих чисел: $$\\frac{F(\\eta_1)+\\ldots+F(\\eta_n)}{n} \\longrightarrow MF(\\eta)$$\n",
    "при $n \\to \\infty$.\n"
   ]
  },
  {
   "cell_type": "code",
   "execution_count": 30,
   "metadata": {},
   "outputs": [],
   "source": [
    "def math_exp(sel):\n",
    "    return np.mean(sel)"
   ]
  },
  {
   "cell_type": "markdown",
   "metadata": {},
   "source": [
    "Коли знайшли значення $n$, яке забезпечує потрібну точність, повертаємо значення інтегралу."
   ]
  },
  {
   "cell_type": "code",
   "execution_count": 31,
   "metadata": {},
   "outputs": [],
   "source": [
    "def find_n_and_I(n_zero, alpha, eps):\n",
    "    i = n_zero\n",
    "    temp = 0\n",
    "    curr = 1\n",
    "    while (abs(temp - curr) > eps):\n",
    "        temp = curr\n",
    "        sel = gen_eta(i)\n",
    "        sel = F(sel, alpha)\n",
    "        curr = math_exp(sel)\n",
    "        i = i + 1\n",
    "    return i, curr"
   ]
  },
  {
   "cell_type": "markdown",
   "metadata": {},
   "source": [
    "3.2) Другий спосіб: обчислюємо ймовірність за формулою $$I=\\int_{0}^{\\infty}{(1-G(u)) dF(u)}$$"
   ]
  },
  {
   "cell_type": "markdown",
   "metadata": {},
   "source": [
    "Якщо $\\omega \\sim U([0,1])$, то $\\xi = -\\frac{1}{\\alpha}(\\ln \\omega)^{\\frac{1}{2}}$, і в такому разі $\\xi \\sim F(u)$."
   ]
  },
  {
   "cell_type": "code",
   "execution_count": 32,
   "metadata": {},
   "outputs": [],
   "source": [
    "def gen_xi(n, alpha):\n",
    "    sel = np.random.uniform(size = n, low = 0, high = 1)\n",
    "    trans = np.vectorize(lambda t: (1/alpha)*sqrt(-log(t)))\n",
    "    sel = trans(sel)\n",
    "    return sel"
   ]
  },
  {
   "cell_type": "code",
   "execution_count": 33,
   "metadata": {},
   "outputs": [],
   "source": [
    "def find_n_and_I_v2(n_zero, alpha, eps):\n",
    "    i = n_zero\n",
    "    temp = 0\n",
    "    curr = 1\n",
    "    while (abs(temp - curr) > eps):\n",
    "        temp = curr\n",
    "        sel = gen_xi(i, alpha)\n",
    "        sel = 1 - G(sel)\n",
    "        curr = math_exp(sel)\n",
    "        i = i + 1\n",
    "    return i, curr"
   ]
  },
  {
   "cell_type": "markdown",
   "metadata": {},
   "source": [
    "Перевірити знайдене значення $I$ можна за допомогою методу Монте-Карло: генеруємо великі вибірки $\\{\\xi_{i}\\}$, $\\{\\eta_{i}\\}$,$i=\\overline{1,n}$ а потім обчислюємо кількість пар $(\\xi_{i}, \\eta_{i})$ таких, що $\\xi_{i}<\\eta_{i}$. Шукану ймовірність апроксимуємо частотою такої події."
   ]
  },
  {
   "cell_type": "code",
   "execution_count": 34,
   "metadata": {},
   "outputs": [],
   "source": [
    "def find_I_MK(n, alpha):\n",
    "    xi = gen_xi(n, alpha)\n",
    "    eta = gen_eta(n)\n",
    "    prob = np.sum(xi<eta)/n\n",
    "    return prob       "
   ]
  },
  {
   "cell_type": "code",
   "execution_count": 35,
   "metadata": {},
   "outputs": [
    {
     "data": {
      "text/plain": [
       "0.0089872"
      ]
     },
     "execution_count": 35,
     "metadata": {},
     "output_type": "execute_result"
    }
   ],
   "source": [
    "find_I_MK(10000000, 0.1)"
   ]
  },
  {
   "cell_type": "markdown",
   "metadata": {},
   "source": [
    "Перевіримо реалізовані функції на вхідних даних:"
   ]
  },
  {
   "cell_type": "code",
   "execution_count": 36,
   "metadata": {},
   "outputs": [],
   "source": [
    "n_zero = 100\n",
    "alpha = 0.1\n",
    "eps = 0.0001"
   ]
  },
  {
   "cell_type": "code",
   "execution_count": 37,
   "metadata": {},
   "outputs": [
    {
     "data": {
      "text/plain": [
       "(106, 0.008155315118219568)"
      ]
     },
     "execution_count": 37,
     "metadata": {},
     "output_type": "execute_result"
    }
   ],
   "source": [
    "find_n_and_I(n_zero, alpha, eps)"
   ]
  },
  {
   "cell_type": "code",
   "execution_count": 38,
   "metadata": {},
   "outputs": [
    {
     "data": {
      "text/plain": [
       "(111, 2.288621703261384e-09)"
      ]
     },
     "execution_count": 38,
     "metadata": {},
     "output_type": "execute_result"
    }
   ],
   "source": [
    "find_n_and_I_v2(n_zero, alpha, eps)"
   ]
  },
  {
   "cell_type": "markdown",
   "metadata": {},
   "source": [
    "Перевизначимо вхідні параметри:"
   ]
  },
  {
   "cell_type": "code",
   "execution_count": 39,
   "metadata": {},
   "outputs": [],
   "source": [
    "n_zero = 1000\n",
    "alpha = 0.1\n",
    "eps = 0.0001"
   ]
  },
  {
   "cell_type": "code",
   "execution_count": 40,
   "metadata": {},
   "outputs": [
    {
     "data": {
      "text/plain": [
       "(1003, 0.008914074022944881)"
      ]
     },
     "execution_count": 40,
     "metadata": {},
     "output_type": "execute_result"
    }
   ],
   "source": [
    "find_n_and_I(n_zero, alpha, eps)"
   ]
  },
  {
   "cell_type": "code",
   "execution_count": 41,
   "metadata": {},
   "outputs": [
    {
     "data": {
      "text/plain": [
       "(1094, 0.00844467793451963)"
      ]
     },
     "execution_count": 41,
     "metadata": {},
     "output_type": "execute_result"
    }
   ],
   "source": [
    "find_n_and_I_v2(n_zero, alpha, eps)"
   ]
  },
  {
   "cell_type": "markdown",
   "metadata": {},
   "source": [
    "Перевизначимо вхідні параметри:"
   ]
  },
  {
   "cell_type": "code",
   "execution_count": 42,
   "metadata": {},
   "outputs": [],
   "source": [
    "n_zero = 10000\n",
    "alpha = 0.1\n",
    "eps = 0.0001"
   ]
  },
  {
   "cell_type": "code",
   "execution_count": 43,
   "metadata": {},
   "outputs": [
    {
     "data": {
      "text/plain": [
       "(10003, 0.008954225614678533)"
      ]
     },
     "execution_count": 43,
     "metadata": {},
     "output_type": "execute_result"
    }
   ],
   "source": [
    "find_n_and_I(n_zero, alpha, eps)"
   ]
  },
  {
   "cell_type": "code",
   "execution_count": 44,
   "metadata": {},
   "outputs": [
    {
     "data": {
      "text/plain": [
       "(10011, 0.008614128485914205)"
      ]
     },
     "execution_count": 44,
     "metadata": {},
     "output_type": "execute_result"
    }
   ],
   "source": [
    "find_n_and_I_v2(n_zero, alpha, eps)"
   ]
  },
  {
   "cell_type": "markdown",
   "metadata": {},
   "source": [
    "Перевизначимо вхідні параметри:"
   ]
  },
  {
   "cell_type": "code",
   "execution_count": 45,
   "metadata": {},
   "outputs": [],
   "source": [
    "n_zero = 100000\n",
    "alpha = 0.1\n",
    "eps = 0.0001"
   ]
  },
  {
   "cell_type": "code",
   "execution_count": 46,
   "metadata": {},
   "outputs": [
    {
     "data": {
      "text/plain": [
       "(100002, 0.009004953651447748)"
      ]
     },
     "execution_count": 46,
     "metadata": {},
     "output_type": "execute_result"
    }
   ],
   "source": [
    "find_n_and_I(n_zero, alpha, eps)"
   ]
  },
  {
   "cell_type": "code",
   "execution_count": 47,
   "metadata": {},
   "outputs": [
    {
     "data": {
      "text/plain": [
       "(100003, 0.008713612537937008)"
      ]
     },
     "execution_count": 47,
     "metadata": {},
     "output_type": "execute_result"
    }
   ],
   "source": [
    "find_n_and_I_v2(n_zero, alpha, eps)"
   ]
  },
  {
   "cell_type": "markdown",
   "metadata": {},
   "source": [
    "Побудуємо графік збіжності значеннь інтегралу"
   ]
  },
  {
   "cell_type": "code",
   "execution_count": 84,
   "metadata": {},
   "outputs": [],
   "source": [
    "def plot_I_per_n(n_max, alpha):\n",
    "    sel = gen_eta(n_max)\n",
    "    sel = F(sel, alpha)\n",
    "    I_values = np.array([])\n",
    "    for i in range(n_max):\n",
    "        I_values = np.append(I_values, math_exp(sel[:i+1]))\n",
    "    plt.plot(range (n_max),I_values, '-')"
   ]
  },
  {
   "cell_type": "code",
   "execution_count": 94,
   "metadata": {
    "scrolled": true
   },
   "outputs": [
    {
     "data": {
      "image/png": "[encoded data removed]",
      "text/plain": [
       "<Figure size 432x288 with 1 Axes>"
      ]
     },
     "metadata": {},
     "output_type": "display_data"
    }
   ],
   "source": [
    "plot_I_per_n(1000, 0.001)"
   ]
  },
  {
   "cell_type": "code",
   "execution_count": 89,
   "metadata": {},
   "outputs": [],
   "source": [
    "def plot_I_per_n_v2(n_max, alpha):\n",
    "    sel = gen_xi(n_max, alpha)\n",
    "    sel = G(sel)\n",
    "    I_values = np.array([])\n",
    "    for i in range(n_max):\n",
    "        I_values = np.append(I_values, math_exp(sel[:i+1]))\n",
    "    plt.plot(range (n_max),I_values, '-')"
   ]
  },
  {
   "cell_type": "code",
   "execution_count": 92,
   "metadata": {},
   "outputs": [
    {
     "data": {
      "image/png": "[encoded data removed]",
      "text/plain": [
       "<Figure size 432x288 with 1 Axes>"
      ]
     },
     "metadata": {},
     "output_type": "display_data"
    }
   ],
   "source": [
    "plot_I_per_n_v2(10000, 0.1)"
   ]
  }
 ],
 "metadata": {
  "kernelspec": {
   "display_name": "Python 3",
   "language": "python",
   "name": "python3"
  },
  "language_info": {
   "codemirror_mode": {
    "name": "ipython",
    "version": 3
   },
   "file_extension": ".py",
   "mimetype": "text/x-python",
   "name": "python",
   "nbconvert_exporter": "python",
   "pygments_lexer": "ipython3",
   "version": "3.5.2"
  }
 },
 "nbformat": 4,
 "nbformat_minor": 2
}
