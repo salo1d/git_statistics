{
 "cells": [
  {
   "cell_type": "code",
   "execution_count": 1,
   "metadata": {},
   "outputs": [],
   "source": [
    "import numpy as np\n",
    "# import matplotlib.pyplot as plt\n",
    "from scipy.stats import norm\n",
    "from scipy.stats import t as stud\n",
    "from scipy.stats import chi2\n",
    "from math import sqrt\n",
    "from math import log\n",
    "# %matplotlib inline"
   ]
  },
  {
   "cell_type": "code",
   "execution_count": 2,
   "metadata": {},
   "outputs": [],
   "source": [
    "def F(u, alpha):\n",
    "    return 1 - np.exp(-((alpha * u) ** 2))\n",
    "def G(u):\n",
    "    return 1 - np.exp(-(u ** 3))"
   ]
  },
  {
   "cell_type": "code",
   "execution_count": null,
   "metadata": {},
   "outputs": [],
   "source": [
    "gamma = 0.05"
   ]
  },
  {
   "cell_type": "code",
   "execution_count": 43,
   "metadata": {},
   "outputs": [],
   "source": [
    "def gen_eta_element():\n",
    "    sel = np.random.uniform(size = 1, low = 0, high = 1)\n",
    "    trans = np.vectorize(lambda t: (-log(t))**(1/3))\n",
    "    return trans(sel)"
   ]
  },
  {
   "cell_type": "code",
   "execution_count": 26,
   "metadata": {},
   "outputs": [],
   "source": [
    "def gen_eta(n):\n",
    "    sel = np.random.uniform(size = n, low = 0, high = 1)\n",
    "    trans = np.vectorize(lambda t: (-log(t))**(1/3))\n",
    "    sel = trans(sel)\n",
    "    return sel"
   ]
  },
  {
   "cell_type": "code",
   "execution_count": 62,
   "metadata": {},
   "outputs": [],
   "source": [
    "def find_n_and_I(n_zero, alpha, eps):\n",
    "    i = n_zero\n",
    "    sel = gen_eta(i)\n",
    "    sel = F(sel, alpha)\n",
    "    a_est = np.mean(sel)\n",
    "    sigma_est = 1/(i-1)*(np.sum(np.square(sel)) - (1/i)*a_est**2)\n",
    "    while i < (1.96 ** 2 * sigma_est)/(eps**2 * a_est ** 2):        \n",
    "        sel = np.append(sel, F(gen_eta_element(), alpha))\n",
    "        a_est = np.mean(sel)\n",
    "        sigma_est = 1/(i-1)*(np.sum(np.square(sel)) - (1/i)*a_est**2)\n",
    "        i = i + 1\n",
    "    return i, a_est"
   ]
  },
  {
   "cell_type": "code",
   "execution_count": 63,
   "metadata": {},
   "outputs": [
    {
     "data": {
      "text/plain": [
       "(55732, 0.00901028491403809)"
      ]
     },
     "execution_count": 63,
     "metadata": {},
     "output_type": "execute_result"
    }
   ],
   "source": [
    "find_n_and_I(100, 0.1, 0.01)"
   ]
  },
  {
   "cell_type": "code",
   "execution_count": 64,
   "metadata": {},
   "outputs": [
    {
     "data": {
      "text/plain": [
       "(56133, 9.030241795739363e-05)"
      ]
     },
     "execution_count": 64,
     "metadata": {},
     "output_type": "execute_result"
    }
   ],
   "source": [
    "find_n_and_I(100, 0.01,0.01)"
   ]
  },
  {
   "cell_type": "code",
   "execution_count": 65,
   "metadata": {},
   "outputs": [
    {
     "data": {
      "text/plain": [
       "(56304, 9.000100069894094e-07)"
      ]
     },
     "execution_count": 65,
     "metadata": {},
     "output_type": "execute_result"
    }
   ],
   "source": [
    "find_n_and_I(100, 0.001, 0.01)"
   ]
  },
  {
   "cell_type": "code",
   "execution_count": 53,
   "metadata": {},
   "outputs": [],
   "source": [
    "def gen_xi(n, alpha):\n",
    "    sel = np.random.uniform(size = n, low = 0, high = 1)\n",
    "    trans = np.vectorize(lambda t: (1/alpha)*sqrt(-log(t)))\n",
    "    sel = trans(sel)\n",
    "    return sel"
   ]
  },
  {
   "cell_type": "code",
   "execution_count": 54,
   "metadata": {},
   "outputs": [],
   "source": [
    "def gen_xi_element(alpha):\n",
    "    sel = np.random.uniform(size = 1, low = 0, high = 1)\n",
    "    trans = np.vectorize(lambda t: (1/alpha)*sqrt(-log(t)))\n",
    "    return trans(sel)"
   ]
  },
  {
   "cell_type": "code",
   "execution_count": 66,
   "metadata": {},
   "outputs": [],
   "source": [
    "def find_n_and_I_v2(n_zero, alpha, eps):\n",
    "    i = n_zero\n",
    "    sel = gen_xi(i, alpha)\n",
    "    sel = 1 - G(sel)\n",
    "    a_est = np.mean(sel)\n",
    "    sigma_est = 1/(i-1)*(np.sum(np.square(sel)) - (1/i)*a_est**2)\n",
    "    while i < (1.96 ** 2 * sigma_est)/(eps**2 * a_est ** 2):        \n",
    "        sel = np.append(sel, 1 - G(gen_xi_element(alpha)))\n",
    "        a_est = np.mean(sel)\n",
    "        sigma_est = 1/(i-1)*(np.sum(np.square(sel)) - (1/i)*a_est**2)\n",
    "        i = i + 1\n",
    "    return i, a_est"
   ]
  },
  {
   "cell_type": "code",
   "execution_count": null,
   "metadata": {},
   "outputs": [],
   "source": [
    "find_n_and_I_v2(100000,0.1,0.01)"
   ]
  },
  {
   "cell_type": "code",
   "execution_count": null,
   "metadata": {},
   "outputs": [],
   "source": []
  }
 ],
 "metadata": {
  "kernelspec": {
   "display_name": "Python 3",
   "language": "python",
   "name": "python3"
  },
  "language_info": {
   "codemirror_mode": {
    "name": "ipython",
    "version": 3
   },
   "file_extension": ".py",
   "mimetype": "text/x-python",
   "name": "python",
   "nbconvert_exporter": "python",
   "pygments_lexer": "ipython3",
   "version": "3.5.2"
  }
 },
 "nbformat": 4,
 "nbformat_minor": 2
}
