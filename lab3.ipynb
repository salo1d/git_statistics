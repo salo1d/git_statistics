{
 "cells": [
  {
   "cell_type": "code",
   "execution_count": 1,
   "metadata": {},
   "outputs": [],
   "source": [
    "import numpy as np\n",
    "import matplotlib.pyplot as plt\n",
    "from scipy.stats import norm\n",
    "from scipy.stats import t as stud\n",
    "from scipy.stats import chi2\n",
    "from scipy.stats import kstwobign as kolm\n",
    "from math import sqrt, log, exp\n",
    "import scipy.integrate as integrate\n",
    "%matplotlib inline"
   ]
  },
  {
   "cell_type": "markdown",
   "metadata": {},
   "source": [
    "# Завдання 1"
   ]
  },
  {
   "cell_type": "markdown",
   "metadata": {},
   "source": [
    "Перевірка гіпотези однорідності."
   ]
  },
  {
   "cell_type": "markdown",
   "metadata": {},
   "source": [
    "   A. Критерій пустих блоків"
   ]
  },
  {
   "cell_type": "code",
   "execution_count": 100,
   "metadata": {},
   "outputs": [],
   "source": [
    "def empty_blocks_criteria(n,m,alpha,beta):\n",
    "    sel_1 = np.random.exponential(scale=1/alpha, size=n)\n",
    "    sel_2 = np.random.exponential(scale=1/beta, size=m)\n",
    "    sel_1_sorted = np.sort(sel_1)\n",
    "    sel_2_min = np.amin(sel_2)\n",
    "    sel_2_max = np.amax(sel_2)\n",
    "    if (sel_2_min < sel_1_sorted[0]):\n",
    "        bins = np.append(np.array(sel_2_min), sel_1_sorted)\n",
    "    else:\n",
    "        bins = np.append(np.array(sel_1_sorted[0]-0.1), sel_1_sorted)\n",
    "    if (sel_2_max > sel_1_sorted[n-1]):\n",
    "        bins = np.append(bins,np.array(sel_2_max))\n",
    "    else:\n",
    "        bins = np.append(bins,np.array(sel_1_sorted[n-1] + 0.1))\n",
    "    inds = np.digitize(sel_2, bins)\n",
    "    unique = np.arange(n+2) + 1\n",
    "    frequencies = dict(((i,0) for i in unique))\n",
    "    for i in inds:\n",
    "        frequencies[i] += 1\n",
    "    frequencies_list = np.fromiter(frequencies.values(), dtype=float)\n",
    "    empty_blocks = 0\n",
    "    for i in frequencies_list:\n",
    "        if (i == 0):\n",
    "            empty_blocks += 1\n",
    "    gamma = 0.05\n",
    "    z_gamma = norm.ppf(1-0.5*gamma, loc = 0, scale=1)\n",
    "    ro = m/n\n",
    "    k_star = n/(1+ro)+(ro*np.sqrt(n)*z_gamma/((1+ro) ** 1.5))\n",
    "    print(\"empty blocks: {0}, k_star: {1}\".format(empty_blocks, k_star))\n",
    "    if(empty_blocks > k_star):\n",
    "        print(False)\n",
    "    else:\n",
    "        print(True)"
   ]
  },
  {
   "cell_type": "code",
   "execution_count": 107,
   "metadata": {},
   "outputs": [],
   "source": [
    "n = 500\n",
    "m = 1000\n",
    "alpha = 1\n",
    "beta = 1.2"
   ]
  },
  {
   "cell_type": "code",
   "execution_count": 108,
   "metadata": {},
   "outputs": [
    {
     "name": "stdout",
     "output_type": "stream",
     "text": [
      "empty blocks: 157, k_star: 183.53535082508878\n",
      "True\n"
     ]
    }
   ],
   "source": [
    "empty_blocks_criteria(n, m, alpha, beta)"
   ]
  },
  {
   "cell_type": "code",
   "execution_count": 109,
   "metadata": {},
   "outputs": [],
   "source": [
    "n = 5000\n",
    "m = 10000\n",
    "alpha = 1\n",
    "beta = 1.2"
   ]
  },
  {
   "cell_type": "code",
   "execution_count": 110,
   "metadata": {},
   "outputs": [
    {
     "name": "stdout",
     "output_type": "stream",
     "text": [
      "empty blocks: 1656, k_star: 1720.0101297372812\n",
      "True\n"
     ]
    }
   ],
   "source": [
    "empty_blocks_criteria(n, m, alpha, beta)"
   ]
  },
  {
   "cell_type": "markdown",
   "metadata": {},
   "source": [
    "   B. Критерій  $\\chi^2$"
   ]
  },
  {
   "cell_type": "code",
   "execution_count": null,
   "metadata": {},
   "outputs": [],
   "source": [
    "def chi2(n1, n2, n3, r, lamda):\n",
    "    sel_1 = np.random.poisson(lam=lamda, size = n1)\n",
    "    sel_2 = np.random.poisson(lam=lamda, size = n2)    \n",
    "    sel_3 = np.random.poisson(lam=lamda, size = n3)\n",
    "    boxes_sel = np.random.poisson(size = r)"
   ]
  }
 ],
 "metadata": {
  "kernelspec": {
   "display_name": "Python 3",
   "language": "python",
   "name": "python3"
  },
  "language_info": {
   "codemirror_mode": {
    "name": "ipython",
    "version": 3
   },
   "file_extension": ".py",
   "mimetype": "text/x-python",
   "name": "python",
   "nbconvert_exporter": "python",
   "pygments_lexer": "ipython3",
   "version": "3.5.2"
  }
 },
 "nbformat": 4,
 "nbformat_minor": 2
}
