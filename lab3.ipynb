{
 "cells": [
  {
   "cell_type": "code",
   "execution_count": 204,
   "metadata": {},
   "outputs": [],
   "source": [
    "import numpy as np\n",
    "import matplotlib.pyplot as plt\n",
    "from scipy.stats import norm\n",
    "from scipy.stats import poisson as pois\n",
    "from scipy.stats import chi2\n",
    "import scipy.integrate as integrate\n",
    "%matplotlib inline"
   ]
  },
  {
   "cell_type": "markdown",
   "metadata": {},
   "source": [
    "# Завдання 1"
   ]
  },
  {
   "cell_type": "markdown",
   "metadata": {},
   "source": [
    "Перевірка гіпотези однорідності."
   ]
  },
  {
   "cell_type": "markdown",
   "metadata": {},
   "source": [
    "   A. Критерій пустих блоків"
   ]
  },
  {
   "cell_type": "code",
   "execution_count": 155,
   "metadata": {},
   "outputs": [],
   "source": [
    "def empty_blocks_criteria(n,m,alpha,beta):\n",
    "    sel_1 = np.random.exponential(scale=1/alpha, size=n)\n",
    "    sel_2 = np.random.exponential(scale=1/beta, size=m)\n",
    "    sel_1_sorted = np.sort(sel_1)\n",
    "    sel_2_min = np.amin(sel_2)\n",
    "    sel_2_max = np.amax(sel_2)\n",
    "    if (sel_2_min < sel_1_sorted[0]):\n",
    "        bins = np.append(np.array(sel_2_min), sel_1_sorted)\n",
    "    else:\n",
    "        bins = np.append(np.array(sel_1_sorted[0]-0.1), sel_1_sorted)\n",
    "    if (sel_2_max > sel_1_sorted[n-1]):\n",
    "        bins = np.append(bins,np.array(sel_2_max))\n",
    "    else:\n",
    "        bins = np.append(bins,np.array(sel_1_sorted[n-1] + 0.1))\n",
    "    inds = np.digitize(sel_2, bins)\n",
    "    unique = np.arange(n+2) + 1\n",
    "    frequencies = dict(((i,0) for i in unique))\n",
    "    for i in inds:\n",
    "        frequencies[i] += 1\n",
    "    frequencies_list = np.fromiter(frequencies.values(), dtype=float)\n",
    "    empty_blocks = 0\n",
    "    for i in frequencies_list:\n",
    "        if (i == 0):\n",
    "            empty_blocks += 1\n",
    "    gamma = 0.05\n",
    "    z_gamma = norm.ppf(1-0.5*gamma, loc = 0, scale=1)\n",
    "    ro = m/n\n",
    "    k_star = n/(1+ro)+(ro*np.sqrt(n)*z_gamma/((1+ro) ** 1.5))\n",
    "    print(\"empty blocks: {0}, k_star: {1}\".format(empty_blocks, k_star))\n",
    "    if(empty_blocks > k_star):\n",
    "        print(False)\n",
    "    else:\n",
    "        print(True)"
   ]
  },
  {
   "cell_type": "code",
   "execution_count": 107,
   "metadata": {},
   "outputs": [],
   "source": [
    "n = 500\n",
    "m = 1000\n",
    "alpha = 1\n",
    "beta = 1.2"
   ]
  },
  {
   "cell_type": "code",
   "execution_count": 108,
   "metadata": {},
   "outputs": [
    {
     "name": "stdout",
     "output_type": "stream",
     "text": [
      "empty blocks: 157, k_star: 183.53535082508878\n",
      "True\n"
     ]
    }
   ],
   "source": [
    "empty_blocks_criteria(n, m, alpha, beta)"
   ]
  },
  {
   "cell_type": "code",
   "execution_count": 109,
   "metadata": {},
   "outputs": [],
   "source": [
    "n = 5000\n",
    "m = 10000\n",
    "alpha = 1\n",
    "beta = 1.2"
   ]
  },
  {
   "cell_type": "code",
   "execution_count": 110,
   "metadata": {},
   "outputs": [
    {
     "name": "stdout",
     "output_type": "stream",
     "text": [
      "empty blocks: 1656, k_star: 1720.0101297372812\n",
      "True\n"
     ]
    }
   ],
   "source": [
    "empty_blocks_criteria(n, m, alpha, beta)"
   ]
  },
  {
   "cell_type": "markdown",
   "metadata": {},
   "source": [
    "   B. Критерій  $\\chi^2$"
   ]
  },
  {
   "cell_type": "code",
   "execution_count": 212,
   "metadata": {},
   "outputs": [],
   "source": [
    "def chi2_criteria(n1, n2, n3, r, lamda):\n",
    "    sel_1 = np.sort(np.random.poisson(lam=lamda, size = n1))\n",
    "    sel_2 = np.sort(np.random.poisson(lam=lamda, size = n2))    \n",
    "    sel_3 = np.sort(np.random.poisson(lam=lamda, size = n3))\n",
    "    bins = np.arange(r-1)+1\n",
    "    flag = True\n",
    "    unique = np.arange(r)\n",
    "    while flag:\n",
    "        flag_temp = True\n",
    "        inds_1 = np.digitize(sel_1, bins)\n",
    "        inds_2 = np.digitize(sel_2, bins)\n",
    "        inds_3 = np.digitize(sel_3, bins)\n",
    "        freq_1 = dict(((i,0) for i in unique))\n",
    "        freq_2 = dict(((i,0) for i in unique))\n",
    "        freq_3 = dict(((i,0) for i in unique))\n",
    "        for i in inds_1:\n",
    "            freq_1[i] += 1\n",
    "        freq_1 = np.fromiter(freq_1.values(), dtype=int)\n",
    "        for i in freq_1:\n",
    "            if (i < 5):\n",
    "                flag_temp = False\n",
    "        for i in inds_2:\n",
    "            freq_2[i] += 1\n",
    "        freq_2 = np.fromiter(freq_2.values(), dtype=int)\n",
    "        for i in freq_2:\n",
    "            if (i < 5):\n",
    "                flag_temp = False\n",
    "        for i in inds_3:\n",
    "            freq_3[i] += 1\n",
    "        freq_3 = np.fromiter(freq_3.values(), dtype=int)\n",
    "        for i in freq_3:\n",
    "            if (i < 5):\n",
    "                flag_temp = False\n",
    "        if (flag_temp==True):\n",
    "            flag = False\n",
    "    print(bins)\n",
    "    print(sel_1)\n",
    "    print(freq_1)\n",
    "    print(freq_2)\n",
    "    print(freq_3)\n",
    "    probs = np.empty(r)   \n",
    "    probs[0] = pois.cdf(0, lamda);\n",
    "    for i in np.arange(r-2)+1:\n",
    "        probs[i] = pois.cdf(i, lamda) - pois.cdf(i-1, lamda);\n",
    "    probs[r-1] = pois.cdf(120, lamda) - pois.cdf(r-2, lamda);\n",
    "    print(probs*n1)\n",
    "    delta = np.sum(np.divide((freq_1 - n1*probs)**2, n*probs))\n",
    "    delta = delta + np.sum(np.divide((freq_2 - n2*probs)**2, n*probs))\n",
    "    delta = delta + np.sum(np.divide((freq_3 - n3*probs)**2, n*probs))\n",
    "    gamma = 0.05\n",
    "    z_gamma = chi2.ppf(1 - 0.5*gamma, df = r-1)\n",
    "    print(delta)\n",
    "    if (delta>z_gamma):\n",
    "        return False\n",
    "    else:\n",
    "        return True"
   ]
  },
  {
   "cell_type": "code",
   "execution_count": 213,
   "metadata": {},
   "outputs": [
    {
     "name": "stdout",
     "output_type": "stream",
     "text": [
      "[1 2 3 4]\n",
      "[0 0 0 0 0 0 0 0 0 0 0 0 0 0 0 0 0 0 0 0 0 0 0 0 0 0 0 0 0 0 0 0 0 0 0 0 1\n",
      " 1 1 1 1 1 1 1 1 1 1 1 1 1 1 1 1 1 1 1 1 1 1 1 1 1 1 1 1 1 1 1 1 1 1 1 1 1\n",
      " 1 1 1 1 1 1 1 2 2 2 2 2 2 2 2 2 2 2 2 2 2 2 2 2 2 2 2 2 2 2 2 2 2 2 2 2 2\n",
      " 2 2 2 2 2 2 2 2 2 2 2 2 2 2 2 2 3 3 3 3 3 3 3 3 3 3 3 3 3 3 3 3 3 3 3 3 3\n",
      " 3 3 3 3 3 3 3 3 3 3 3 3 3 3 3 3 3 3 3 3 3 4 4 4 4 4 4 4 4 4 4 4 4 4 4 4 4\n",
      " 4 4 4 4 4 5 5 5 5 5 5 5 6 6 7]\n",
      "[36 45 46 42 31]\n",
      "[ 52 155 148  75  70]\n",
      "[115 209 231 135 110]\n",
      "[27.06705665 54.13411329 54.13411329 36.08940886 28.5753079 ]\n",
      "1.688659089946351\n"
     ]
    },
    {
     "data": {
      "text/plain": [
       "True"
      ]
     },
     "execution_count": 213,
     "metadata": {},
     "output_type": "execute_result"
    }
   ],
   "source": [
    "chi2_criteria(200,500,800,5,2)"
   ]
  },
  {
   "cell_type": "code",
   "execution_count": 214,
   "metadata": {},
   "outputs": [
    {
     "name": "stdout",
     "output_type": "stream",
     "text": [
      "[1 2]\n",
      "[0 0 0 0 0 0 0 0 0 0 0 0 0 0 0 0 0 0 0 0 0 0 0 0 0 0 1 1 1 1 1 1 1 1 1 1 1\n",
      " 1 1 1 1 1 1 1 1 1 1 1 1 1 1 1 1 1 1 1 1 1 1 1 1 1 1 1 1 1 1 1 1 1 1 1 1 1\n",
      " 1 1 1 1 1 1 1 1 1 2 2 2 2 2 2 2 2 2 2 2 2 2 2 2 2 2 2 2 2 2 2 2 2 2 2 2 2\n",
      " 2 2 2 2 2 2 2 2 2 2 2 2 2 2 2 2 2 2 2 2 2 2 2 2 2 2 3 3 3 3 3 3 3 3 3 3 3\n",
      " 3 3 3 3 3 3 3 3 3 3 3 3 3 3 3 3 3 3 3 3 3 3 4 4 4 4 4 4 4 4 4 4 4 4 4 4 4\n",
      " 4 4 4 4 4 4 4 4 5 5 5 5 5 6 8]\n",
      "[ 26  57 117]\n",
      "[ 78 118 304]\n",
      "[ 95 207 498]\n",
      "[ 27.06705665  54.13411329 118.79883006]\n",
      "0.9076363245195762\n"
     ]
    },
    {
     "data": {
      "text/plain": [
       "True"
      ]
     },
     "execution_count": 214,
     "metadata": {},
     "output_type": "execute_result"
    }
   ],
   "source": [
    "chi2_criteria(200,500,800,3,2)"
   ]
  },
  {
   "cell_type": "code",
   "execution_count": null,
   "metadata": {},
   "outputs": [],
   "source": []
  }
 ],
 "metadata": {
  "kernelspec": {
   "display_name": "Python 3",
   "language": "python",
   "name": "python3"
  },
  "language_info": {
   "codemirror_mode": {
    "name": "ipython",
    "version": 3
   },
   "file_extension": ".py",
   "mimetype": "text/x-python",
   "name": "python",
   "nbconvert_exporter": "python",
   "pygments_lexer": "ipython3",
   "version": "3.5.2"
  }
 },
 "nbformat": 4,
 "nbformat_minor": 2
}
