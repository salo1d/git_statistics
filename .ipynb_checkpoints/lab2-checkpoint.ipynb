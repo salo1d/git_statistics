{
 "cells": [
  {
   "cell_type": "code",
   "execution_count": 1,
   "metadata": {},
   "outputs": [],
   "source": [
    "import numpy as np\n",
    "import matplotlib.pyplot as plt\n",
    "from scipy.stats import norm\n",
    "from scipy.stats import t as stud\n",
    "from scipy.stats import chi2\n",
    "from scipy.stats import kstwobign as kolm\n",
    "from math import sqrt, log, exp\n",
    "import scipy.integrate as integrate\n",
    "%matplotlib inline"
   ]
  },
  {
   "cell_type": "markdown",
   "metadata": {},
   "source": [
    "# Завдання 1. "
   ]
  },
  {
   "cell_type": "markdown",
   "metadata": {},
   "source": [
    "Перевірка гіпотези про вигляд розподілу критерієм $\\chi^2$."
   ]
  },
  {
   "cell_type": "code",
   "execution_count": 53,
   "metadata": {},
   "outputs": [],
   "source": [
    "def chi2_criteria(n,r):\n",
    "    boxes_sel = np.random.normal(size = r - 1, loc = 0, scale = 1)\n",
    "    sel = np.random.normal(size = n, loc = 0, scale = 1)\n",
    "    sel_min = np.amin(sel)\n",
    "    sel_max = np.amax(sel)\n",
    "    sel_sorted = np.sort(sel)\n",
    "    while (sel_sorted[4] > np.amin(boxes_sel) and sel_sorted[n-5] < np.amax(boxes_sel)):\n",
    "        sel = np.random.normal(size = n, loc = 0, scale = 1)\n",
    "        boxes_sel = np.random.normal(size = r - 1, loc = 0, scale = 1)\n",
    "    bins = np.array(sel_min - 0.0001) + boxes_sel + np.array(sel_max + 0.00001)\n",
    "    print(bins)\n",
    "    inds = np.digitize(sel, bins)\n",
    "    unique = np.arange(r) + 1\n",
    "    frequencies = dict(((i,0) for i in unique))\n",
    "    for i in inds:\n",
    "        frequencies[i] += 1\n",
    "    probs = np.array([])\n",
    "    frequencies_list = np.fromiter(frequencies.values(), dtype=float)\n",
    "    for i in range(len(bins) - 1):\n",
    "        probs = np.append(probs, norm.cdf(bins[i + 1], loc = 0, scale = 1) - norm.cdf(bins[i], loc = 0, scale = 1))\n",
    "    delta = np.sum(np.divide((frequencies_list - n*probs)**2, n*probs))\n",
    "    gamma = 0.05\n",
    "    z_gamma = chi2.ppf(1 - 0.5*gamma, df = r-1)\n",
    "    print('Delta = {0}, z_gamma = {1}'.format(delta, z_gamma))\n",
    "    if(delta > z_gamma):\n",
    "        return False\n",
    "    else:\n",
    "        return True"
   ]
  },
  {
   "cell_type": "markdown",
   "metadata": {},
   "source": [
    "При $n=100, r=20$:"
   ]
  },
  {
   "cell_type": "code",
   "execution_count": 54,
   "metadata": {},
   "outputs": [
    {
     "name": "stdout",
     "output_type": "stream",
     "text": [
      "-1.5705422029238507\n",
      "-2.1057874358788546\n",
      "2.484491229854187\n",
      "1.3990940416129518\n"
     ]
    },
    {
     "ename": "ValueError",
     "evalue": "bins must be monotonically increasing or decreasing",
     "output_type": "error",
     "traceback": [
      "\u001b[0;31m---------------------------------------------------------------------------\u001b[0m",
      "\u001b[0;31mValueError\u001b[0m                                Traceback (most recent call last)",
      "\u001b[0;32m<ipython-input-54-42083df655d5>\u001b[0m in \u001b[0;36m<module>\u001b[0;34m()\u001b[0m\n\u001b[0;32m----> 1\u001b[0;31m \u001b[0mchi2_criteria\u001b[0m\u001b[0;34m(\u001b[0m\u001b[0;36m120\u001b[0m\u001b[0;34m,\u001b[0m \u001b[0;36m10\u001b[0m\u001b[0;34m)\u001b[0m\u001b[0;34m\u001b[0m\u001b[0m\n\u001b[0m",
      "\u001b[0;32m<ipython-input-53-c44f0ad4f659>\u001b[0m in \u001b[0;36mchi2_criteria\u001b[0;34m(n, r)\u001b[0m\n\u001b[1;32m     13\u001b[0m         \u001b[0mboxes_sel\u001b[0m \u001b[0;34m=\u001b[0m \u001b[0mnp\u001b[0m\u001b[0;34m.\u001b[0m\u001b[0mrandom\u001b[0m\u001b[0;34m.\u001b[0m\u001b[0mnormal\u001b[0m\u001b[0;34m(\u001b[0m\u001b[0msize\u001b[0m \u001b[0;34m=\u001b[0m \u001b[0mr\u001b[0m \u001b[0;34m-\u001b[0m \u001b[0;36m1\u001b[0m\u001b[0;34m,\u001b[0m \u001b[0mloc\u001b[0m \u001b[0;34m=\u001b[0m \u001b[0;36m0\u001b[0m\u001b[0;34m,\u001b[0m \u001b[0mscale\u001b[0m \u001b[0;34m=\u001b[0m \u001b[0;36m1\u001b[0m\u001b[0;34m)\u001b[0m\u001b[0;34m\u001b[0m\u001b[0m\n\u001b[1;32m     14\u001b[0m     \u001b[0mbins\u001b[0m \u001b[0;34m=\u001b[0m \u001b[0mnp\u001b[0m\u001b[0;34m.\u001b[0m\u001b[0marray\u001b[0m\u001b[0;34m(\u001b[0m\u001b[0msel_min\u001b[0m \u001b[0;34m-\u001b[0m \u001b[0;36m0.0001\u001b[0m\u001b[0;34m)\u001b[0m \u001b[0;34m+\u001b[0m \u001b[0mboxes_sel\u001b[0m \u001b[0;34m+\u001b[0m \u001b[0mnp\u001b[0m\u001b[0;34m.\u001b[0m\u001b[0marray\u001b[0m\u001b[0;34m(\u001b[0m\u001b[0msel_max\u001b[0m \u001b[0;34m+\u001b[0m \u001b[0;36m0.00001\u001b[0m\u001b[0;34m)\u001b[0m\u001b[0;34m\u001b[0m\u001b[0m\n\u001b[0;32m---> 15\u001b[0;31m     \u001b[0minds\u001b[0m \u001b[0;34m=\u001b[0m \u001b[0mnp\u001b[0m\u001b[0;34m.\u001b[0m\u001b[0mdigitize\u001b[0m\u001b[0;34m(\u001b[0m\u001b[0msel\u001b[0m\u001b[0;34m,\u001b[0m \u001b[0mbins\u001b[0m\u001b[0;34m)\u001b[0m\u001b[0;34m\u001b[0m\u001b[0m\n\u001b[0m\u001b[1;32m     16\u001b[0m     \u001b[0munique\u001b[0m \u001b[0;34m=\u001b[0m \u001b[0mnp\u001b[0m\u001b[0;34m.\u001b[0m\u001b[0marange\u001b[0m\u001b[0;34m(\u001b[0m\u001b[0mr\u001b[0m\u001b[0;34m)\u001b[0m \u001b[0;34m+\u001b[0m \u001b[0;36m1\u001b[0m\u001b[0;34m\u001b[0m\u001b[0m\n\u001b[1;32m     17\u001b[0m     \u001b[0mfrequencies\u001b[0m \u001b[0;34m=\u001b[0m \u001b[0mdict\u001b[0m\u001b[0;34m(\u001b[0m\u001b[0;34m(\u001b[0m\u001b[0;34m(\u001b[0m\u001b[0mi\u001b[0m\u001b[0;34m,\u001b[0m\u001b[0;36m0\u001b[0m\u001b[0;34m)\u001b[0m \u001b[0;32mfor\u001b[0m \u001b[0mi\u001b[0m \u001b[0;32min\u001b[0m \u001b[0munique\u001b[0m\u001b[0;34m)\u001b[0m\u001b[0;34m)\u001b[0m\u001b[0;34m\u001b[0m\u001b[0m\n",
      "\u001b[0;31mValueError\u001b[0m: bins must be monotonically increasing or decreasing"
     ]
    }
   ],
   "source": [
    "chi2_criteria(120, 10)"
   ]
  },
  {
   "cell_type": "markdown",
   "metadata": {},
   "source": [
    "При $n=200, r=30$:"
   ]
  },
  {
   "cell_type": "code",
   "execution_count": 4,
   "metadata": {},
   "outputs": [
    {
     "name": "stdout",
     "output_type": "stream",
     "text": [
      "Delta = 24.32014115263864, z_gamma = 45.7222858041745\n"
     ]
    },
    {
     "data": {
      "text/plain": [
       "True"
      ]
     },
     "execution_count": 4,
     "metadata": {},
     "output_type": "execute_result"
    }
   ],
   "source": [
    "chi2_criteria(200, 30)"
   ]
  },
  {
   "cell_type": "markdown",
   "metadata": {},
   "source": [
    "При $n=300, r=40$:"
   ]
  },
  {
   "cell_type": "code",
   "execution_count": 5,
   "metadata": {},
   "outputs": [
    {
     "name": "stdout",
     "output_type": "stream",
     "text": [
      "Delta = 44.92069991947452, z_gamma = 58.12005973468631\n"
     ]
    },
    {
     "data": {
      "text/plain": [
       "True"
      ]
     },
     "execution_count": 5,
     "metadata": {},
     "output_type": "execute_result"
    }
   ],
   "source": [
    "chi2_criteria(300, 40)"
   ]
  },
  {
   "cell_type": "markdown",
   "metadata": {},
   "source": [
    "# Завдання 2."
   ]
  },
  {
   "cell_type": "markdown",
   "metadata": {},
   "source": [
    "Перевірка гіпотези про вигляд розподілу критерієм пустих ящиків.\n"
   ]
  },
  {
   "cell_type": "code",
   "execution_count": 2,
   "metadata": {},
   "outputs": [],
   "source": [
    "def empty_boxes_criteria(n, r):\n",
    "    sel = np.random.uniform(low = 0.0, high = 1.0, size = n)\n",
    "    bins = np.linspace(0.0, 1.0, r + 1)\n",
    "    inds = np.digitize(sel, bins)\n",
    "    unique = np.arange(r) + 1\n",
    "    frequencies = dict(((i,0) for i in unique))\n",
    "    for i in inds:\n",
    "        frequencies[i] += 1\n",
    "    probs = np.array([])\n",
    "    empt_boxes_count = 0\n",
    "    for i in frequencies:\n",
    "        if (frequencies[i] == 0):\n",
    "            empt_boxes_count += 1\n",
    "    gamma = 0.05\n",
    "    z_gamma = norm.ppf(1-0.5*gamma, loc = 0, scale=1)\n",
    "    ro = n/r\n",
    "    k_star = r*exp(-ro) + z_gamma*np.sqrt(r*exp(-ro)*(1 - (1 + ro)*exp(-ro)))\n",
    "    print('k = {0}, k* = {1}'.format(empt_boxes_count, k_star))\n",
    "    if (empt_boxes_count >= k_star):\n",
    "        return False\n",
    "    else:\n",
    "        return True"
   ]
  },
  {
   "cell_type": "markdown",
   "metadata": {},
   "source": [
    "При $n=40, r=20$:"
   ]
  },
  {
   "cell_type": "code",
   "execution_count": 5,
   "metadata": {},
   "outputs": [
    {
     "name": "stdout",
     "output_type": "stream",
     "text": [
      "k = 1, k* = 5.191896200055833\n"
     ]
    },
    {
     "data": {
      "text/plain": [
       "True"
      ]
     },
     "execution_count": 5,
     "metadata": {},
     "output_type": "execute_result"
    }
   ],
   "source": [
    "empty_boxes_criteria(40, 20)"
   ]
  },
  {
   "cell_type": "markdown",
   "metadata": {},
   "source": [
    "При $n=400, r=200$:"
   ]
  },
  {
   "cell_type": "code",
   "execution_count": 7,
   "metadata": {},
   "outputs": [
    {
     "name": "stdout",
     "output_type": "stream",
     "text": [
      "k = 29, k* = 34.92591915843819\n"
     ]
    },
    {
     "data": {
      "text/plain": [
       "True"
      ]
     },
     "execution_count": 7,
     "metadata": {},
     "output_type": "execute_result"
    }
   ],
   "source": [
    "empty_boxes_criteria(400, 200)"
   ]
  },
  {
   "cell_type": "markdown",
   "metadata": {},
   "source": [
    "При $n=4000, r=2000$:"
   ]
  },
  {
   "cell_type": "code",
   "execution_count": 10,
   "metadata": {},
   "outputs": [
    {
     "name": "stdout",
     "output_type": "stream",
     "text": [
      "k = 232, k* = 295.5224718264612\n"
     ]
    },
    {
     "data": {
      "text/plain": [
       "True"
      ]
     },
     "execution_count": 10,
     "metadata": {},
     "output_type": "execute_result"
    }
   ],
   "source": [
    "empty_boxes_criteria(4000, 2000)"
   ]
  },
  {
   "cell_type": "markdown",
   "metadata": {},
   "source": [
    "# Завдання 3."
   ]
  },
  {
   "cell_type": "markdown",
   "metadata": {},
   "source": [
    "Перевірка гіпотези однорідності критерієм Смірнова."
   ]
  },
  {
   "cell_type": "code",
   "execution_count": 13,
   "metadata": {},
   "outputs": [],
   "source": [
    "def imp_df(sel, u):\n",
    "    return np.mean(list(map(lambda x: x <= u, sel)))\n",
    "    "
   ]
  },
  {
   "cell_type": "code",
   "execution_count": 14,
   "metadata": {},
   "outputs": [],
   "source": [
    "def smirnov_criteria(n, m):\n",
    "    sel_1 = np.random.exponential(size=n)\n",
    "    sel_2 = np.random.exponential(size=m)\n",
    "    sel_2 = np.sort(sel_2)\n",
    "    D_plus = 0\n",
    "    for k in range(m):\n",
    "        temp = k/m-imp_df(sel_1, sel_2[k])\n",
    "        if (temp >= D_plus):\n",
    "            D_plus = temp\n",
    "    D_minus = 0\n",
    "    for k in range(m):\n",
    "        temp = imp_df(sel_1, sel_2[k]) - (k-1)/m\n",
    "        if (temp >= D_minus):\n",
    "            D_minus = temp\n",
    "    D = max(D_plus, D_minus)\n",
    "    gamma = 0.05\n",
    "    z_gamma = kolm.ppf(1-0.5*gamma)\n",
    "    print(\"D = {0}, z_gamma = {1}\".format(D,z_gamma))\n",
    "    if (D > z_gamma):\n",
    "        return False\n",
    "    else:\n",
    "        return True"
   ]
  },
  {
   "cell_type": "markdown",
   "metadata": {},
   "source": [
    "При $n=10, m=20$:"
   ]
  },
  {
   "cell_type": "code",
   "execution_count": 50,
   "metadata": {},
   "outputs": [
    {
     "name": "stdout",
     "output_type": "stream",
     "text": [
      "D = 0.29999999999999993, z_gamma = 1.4802068574249225\n"
     ]
    },
    {
     "data": {
      "text/plain": [
       "True"
      ]
     },
     "execution_count": 50,
     "metadata": {},
     "output_type": "execute_result"
    }
   ],
   "source": [
    "smirnov_criteria(10,20)"
   ]
  },
  {
   "cell_type": "markdown",
   "metadata": {},
   "source": [
    "При $n=100, m=200$:"
   ]
  },
  {
   "cell_type": "code",
   "execution_count": 51,
   "metadata": {},
   "outputs": [
    {
     "name": "stdout",
     "output_type": "stream",
     "text": [
      "D = 0.09500000000000008, z_gamma = 1.4802068574249225\n"
     ]
    },
    {
     "data": {
      "text/plain": [
       "True"
      ]
     },
     "execution_count": 51,
     "metadata": {},
     "output_type": "execute_result"
    }
   ],
   "source": [
    "smirnov_criteria(100,200)"
   ]
  },
  {
   "cell_type": "markdown",
   "metadata": {},
   "source": [
    "При $n=500, m=600$:"
   ]
  },
  {
   "cell_type": "code",
   "execution_count": 52,
   "metadata": {},
   "outputs": [
    {
     "name": "stdout",
     "output_type": "stream",
     "text": [
      "D = 0.063, z_gamma = 1.4802068574249225\n"
     ]
    },
    {
     "data": {
      "text/plain": [
       "True"
      ]
     },
     "execution_count": 52,
     "metadata": {},
     "output_type": "execute_result"
    }
   ],
   "source": [
    "smirnov_criteria(500,600)"
   ]
  },
  {
   "cell_type": "code",
   "execution_count": null,
   "metadata": {},
   "outputs": [],
   "source": []
  }
 ],
 "metadata": {
  "kernelspec": {
   "display_name": "Python 3",
   "language": "python",
   "name": "python3"
  },
  "language_info": {
   "codemirror_mode": {
    "name": "ipython",
    "version": 3
   },
   "file_extension": ".py",
   "mimetype": "text/x-python",
   "name": "python",
   "nbconvert_exporter": "python",
   "pygments_lexer": "ipython3",
   "version": "3.5.2"
  }
 },
 "nbformat": 4,
 "nbformat_minor": 2
}
