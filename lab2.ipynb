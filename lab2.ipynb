{
 "cells": [
  {
   "cell_type": "code",
   "execution_count": 2,
   "metadata": {},
   "outputs": [],
   "source": [
    "import numpy as np\n",
    "import matplotlib.pyplot as plt\n",
    "from scipy.stats import norm\n",
    "from scipy.stats import t as stud\n",
    "from scipy.stats import chi2\n",
    "\n",
    "from math import sqrt\n",
    "from math import log\n",
    "import scipy.integrate as integrate\n",
    "%matplotlib inline"
   ]
  },
  {
   "cell_type": "markdown",
   "metadata": {},
   "source": [
    "# Завдання 1. "
   ]
  },
  {
   "cell_type": "markdown",
   "metadata": {},
   "source": [
    "Перевірка гіпотези про стандартний нормальний розподіл критерієм $\\chi^2$."
   ]
  },
  {
   "cell_type": "markdown",
   "metadata": {},
   "source": [
    "Генеруємо вибірку розміром $n=111$. "
   ]
  },
  {
   "cell_type": "code",
   "execution_count": 57,
   "metadata": {},
   "outputs": [],
   "source": [
    "def chi2_criteria(n,r):\n",
    "    sel = np.random.normal(size = n, loc = 0, scale = 1)\n",
    "    sel_min = np.amin(sel)\n",
    "    sel_max = np.amax(sel)\n",
    "    bins = np.linspace(sel_min, sel_max + 0.1, r + 1 )\n",
    "    inds = np.digitize(sel, bins)\n",
    "    unique = np.arange(r) + 1\n",
    "    frequencies = dict(((i,0) for i in unique))\n",
    "    for i in inds:\n",
    "        frequencies[i] += 1\n",
    "    probs = np.array([])\n",
    "    frequencies_list = np.fromiter(frequencies.values(), dtype=float)\n",
    "    for i in range(len(bins) - 1):\n",
    "        probs = np.append(probs, norm.cdf(bins[i + 1], loc = 0, scale = 1) - norm.cdf(bins[i], loc = 0, scale = 1))\n",
    "    delta = np.sum(np.divide((frequencies_list - n*probs)**2, n*probs))\n",
    "    print(frequencies_list)\n",
    "    print(n*probs)\n",
    "    gamma = 0.05\n",
    "    z_gamma = chi2.ppf(0.5*gamma, df = r-1)\n",
    "    print(delta, z_gamma)\n",
    "    if(delta > z_gamma):\n",
    "        return False\n",
    "    else:\n",
    "        return True"
   ]
  },
  {
   "cell_type": "code",
   "execution_count": 58,
   "metadata": {},
   "outputs": [
    {
     "name": "stdout",
     "output_type": "stream",
     "text": [
      "[ 4.  4.  5. 12. 30. 25. 44. 61. 95. 81. 97. 92. 69. 75. 38. 27. 20. 16.\n",
      "  3.  2.]\n",
      "[ 1.88804433  3.97118809  7.71520651 13.8450543  22.94895066 35.13605309\n",
      " 49.68964166 64.90858415 78.3181244  87.28641103 89.85772352 85.44539398\n",
      " 75.04923648 60.88748533 45.62822256 31.5836479  20.19359219 11.9257751\n",
      "  6.50549639  3.27788695]\n",
      "24.09789642058968 8.906516481987973\n"
     ]
    },
    {
     "data": {
      "text/plain": [
       "False"
      ]
     },
     "execution_count": 58,
     "metadata": {},
     "output_type": "execute_result"
    }
   ],
   "source": [
    "chi2_criteria(800, 20)"
   ]
  },
  {
   "cell_type": "code",
   "execution_count": 42,
   "metadata": {},
   "outputs": [
    {
     "data": {
      "text/plain": [
       "6.5"
      ]
     },
     "execution_count": 42,
     "metadata": {},
     "output_type": "execute_result"
    }
   ],
   "source": [
    "np.sum(np.divide((np.array([5,2,3])-np.array([2,3,4]))**2, np.array([2,1,1])))"
   ]
  },
  {
   "cell_type": "code",
   "execution_count": null,
   "metadata": {},
   "outputs": [],
   "source": []
  }
 ],
 "metadata": {
  "kernelspec": {
   "display_name": "Python 3",
   "language": "python",
   "name": "python3"
  },
  "language_info": {
   "codemirror_mode": {
    "name": "ipython",
    "version": 3
   },
   "file_extension": ".py",
   "mimetype": "text/x-python",
   "name": "python",
   "nbconvert_exporter": "python",
   "pygments_lexer": "ipython3",
   "version": "3.5.2"
  }
 },
 "nbformat": 4,
 "nbformat_minor": 2
}
